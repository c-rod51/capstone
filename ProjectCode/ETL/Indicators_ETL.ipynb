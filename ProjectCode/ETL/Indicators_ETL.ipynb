{
 "cells": [
  {
   "cell_type": "code",
   "execution_count": null,
   "metadata": {
    "application/vnd.databricks.v1+cell": {
     "inputWidgets": {},
     "nuid": "6d3d74af-1b1f-4ad3-a0e9-af0fcfdee0a9",
     "showTitle": false,
     "title": ""
    }
   },
   "outputs": [],
   "source": [
    "import pandas as pd\n",
    "import pyspark.sql.functions\n",
    "from pyspark.sql.functions import when\n",
    "from pyspark.sql import SparkSession\n",
    "from pyspark.sql.functions import concat, col, lit, lower\n",
    "from pyspark.sql.types import StringType,DecimalType\n",
    "from pyspark.sql.functions import input_file_name, substring\n",
    "import matplotlib.pyplot as plt"
   ]
  },
  {
   "cell_type": "markdown",
   "metadata": {
    "application/vnd.databricks.v1+cell": {
     "inputWidgets": {},
     "nuid": "630dcc94-a270-4cc0-be05-4f570c6f30dd",
     "showTitle": false,
     "title": ""
    }
   },
   "source": [
    "## Extract and Transform"
   ]
  },
  {
   "cell_type": "code",
   "execution_count": null,
   "metadata": {
    "application/vnd.databricks.v1+cell": {
     "inputWidgets": {},
     "nuid": "0670accf-05f2-46bc-9eea-b3a30f443c78",
     "showTitle": false,
     "title": ""
    }
   },
   "outputs": [],
   "source": [
    "df = pd.read_csv('/dbfs/mnt/capstone-group2-data/datain/rawdata/indicators.csv')\n",
    "df.info()"
   ]
  },
  {
   "cell_type": "code",
   "execution_count": null,
   "metadata": {
    "application/vnd.databricks.v1+cell": {
     "inputWidgets": {},
     "nuid": "0a6a3dc6-1b6f-41d5-9eae-1d179d655161",
     "showTitle": false,
     "title": ""
    }
   },
   "outputs": [],
   "source": [
    "## drop unnecessary columns\n",
    "df = df.drop(columns=[\"Quartile Range\",\"Suppression Flag\",\"Low CI\",\"High CI\",\"Confidence Interval\"])"
   ]
  },
  {
   "cell_type": "code",
   "execution_count": null,
   "metadata": {
    "application/vnd.databricks.v1+cell": {
     "inputWidgets": {},
     "nuid": "9d659494-3e48-4317-99c3-77a6772df36b",
     "showTitle": false,
     "title": ""
    }
   },
   "outputs": [],
   "source": [
    "## drop na values\n",
    "df = df.dropna()\n",
    "df.info()"
   ]
  },
  {
   "cell_type": "markdown",
   "metadata": {
    "application/vnd.databricks.v1+cell": {
     "inputWidgets": {},
     "nuid": "a85a178b-45e6-4711-88bd-1b9a12a8841c",
     "showTitle": false,
     "title": ""
    }
   },
   "source": [
    "## Load\n",
    "#### to file"
   ]
  },
  {
   "cell_type": "code",
   "execution_count": null,
   "metadata": {
    "application/vnd.databricks.v1+cell": {
     "inputWidgets": {},
     "nuid": "671f5827-2319-457d-bffa-1656d8f9cd68",
     "showTitle": false,
     "title": ""
    }
   },
   "outputs": [],
   "source": [
    "from pyspark.sql import SparkSession\n",
    "#Create PySpark SparkSession\n",
    "spark = SparkSession.builder \\\n",
    "    .master(\"local[1]\") \\\n",
    "    .appName(\"SparkByExamples.com\") \\\n",
    "    .getOrCreate()\n",
    "#Create PySpark DataFrame from Pandas\n",
    "df = spark.createDataFrame(df) \n",
    "df.printSchema()\n",
    "df.show()"
   ]
  },
  {
   "cell_type": "code",
   "execution_count": null,
   "metadata": {
    "application/vnd.databricks.v1+cell": {
     "inputWidgets": {},
     "nuid": "eee35f30-7060-4575-9c39-2d7b909e7f44",
     "showTitle": false,
     "title": ""
    }
   },
   "outputs": [],
   "source": [
    "# Mount the capstone container\n",
    "from config import storageAccount\n",
    "from config import storageContainer\n",
    "from config import clientSecret\n",
    "from config import clientid\n",
    "mount_point = \"/mnt/capstone-group2-data/dataout\"\n",
    "    \n",
    "    \n",
    "configs = {\"fs.azure.account.auth.type\": \"OAuth\",\n",
    "   \"fs.azure.account.oauth.provider.type\": \"org.apache.hadoop.fs.azurebfs.oauth2.ClientCredsTokenProvider\",\n",
    "   \"fs.azure.account.oauth2.client.id\": clientid,\n",
    "   \"fs.azure.account.oauth2.client.secret\": clientSecret,\n",
    "   \"fs.azure.account.oauth2.client.endpoint\": \"https://login.microsoftonline.com/d46b54b2-a652-420b-aa5a-2ef7f8fc706e/oauth2/token\",\n",
    "   \"fs.azure.createRemoteFileSystemDuringInitialization\": \"true\"}\n",
    "\n",
    "try:\n",
    "    dbutils.fs.unmount(mount_point)\n",
    "except:\n",
    "    pass\n",
    "\n",
    "\n",
    "dbutils.fs.mount(\n",
    "source = f\"abfss://{storageContainer}@{storageAccount}.dfs.core.windows.net/\", \n",
    "mount_point = mount_point, \n",
    "extra_configs = configs)"
   ]
  },
  {
   "cell_type": "code",
   "execution_count": null,
   "metadata": {
    "application/vnd.databricks.v1+cell": {
     "inputWidgets": {},
     "nuid": "abe94cb7-15fe-4957-8f5c-7f557645c5bf",
     "showTitle": false,
     "title": ""
    }
   },
   "outputs": [],
   "source": [
    "%fs\n",
    "ls /mnt/capstone-group2-data/dataout"
   ]
  },
  {
   "cell_type": "code",
   "execution_count": null,
   "metadata": {
    "application/vnd.databricks.v1+cell": {
     "inputWidgets": {},
     "nuid": "2beb3b02-2bcc-43f2-ba97-6c5ee39f17d9",
     "showTitle": false,
     "title": ""
    }
   },
   "outputs": [],
   "source": [
    "df.write.mode(\"overwrite\").option(\"header\", \"true\").csv(\"/mnt/capstone-group2-data/dataout/cleandata/cleanIndicators\")"
   ]
  },
  {
   "cell_type": "markdown",
   "metadata": {
    "application/vnd.databricks.v1+cell": {
     "inputWidgets": {},
     "nuid": "355935bf-5e72-4407-af6f-22fc9ed53c77",
     "showTitle": false,
     "title": ""
    }
   },
   "source": [
    "## Load\n",
    "#### to SQL database"
   ]
  },
  {
   "cell_type": "code",
   "execution_count": null,
   "metadata": {
    "application/vnd.databricks.v1+cell": {
     "inputWidgets": {},
     "nuid": "4ad7b61d-c339-4635-a14f-57de657f0596",
     "showTitle": false,
     "title": ""
    }
   },
   "outputs": [],
   "source": [
    "# Mount the capstone container\n",
    "from config import storageAccount\n",
    "from config import storageContainer\n",
    "from config import clientSecret\n",
    "from config import clientid\n",
    "mount_point = \"/mnt/capstone-group2-data/datain\"\n",
    "    \n",
    "    \n",
    "configs = {\"fs.azure.account.auth.type\": \"OAuth\",\n",
    "   \"fs.azure.account.oauth.provider.type\": \"org.apache.hadoop.fs.azurebfs.oauth2.ClientCredsTokenProvider\",\n",
    "   \"fs.azure.account.oauth2.client.id\": clientid,\n",
    "   \"fs.azure.account.oauth2.client.secret\": clientSecret,\n",
    "   \"fs.azure.account.oauth2.client.endpoint\": \"https://login.microsoftonline.com/d46b54b2-a652-420b-aa5a-2ef7f8fc706e/oauth2/token\",\n",
    "   \"fs.azure.createRemoteFileSystemDuringInitialization\": \"true\"}\n",
    "\n",
    "try:\n",
    "    dbutils.fs.unmount(mount_point)\n",
    "except:\n",
    "    pass\n",
    "\n",
    "\n",
    "dbutils.fs.mount(\n",
    "source = f\"abfss://{storageContainer}@{storageAccount}.dfs.core.windows.net/\", \n",
    "mount_point = mount_point, \n",
    "extra_configs = configs)"
   ]
  },
  {
   "cell_type": "code",
   "execution_count": null,
   "metadata": {
    "application/vnd.databricks.v1+cell": {
     "inputWidgets": {},
     "nuid": "033dc6fb-2be4-4fd2-a94a-a789948f7c39",
     "showTitle": false,
     "title": ""
    }
   },
   "outputs": [],
   "source": [
    "df = spark.read.option(\"header\", \"true\").csv(\"/mnt/capstone-group2-data/datain/cleandata/cleanIndicators\")"
   ]
  },
  {
   "cell_type": "code",
   "execution_count": null,
   "metadata": {
    "application/vnd.databricks.v1+cell": {
     "inputWidgets": {},
     "nuid": "e7030f5f-8bc6-44a9-a88c-9bd0eac8e11b",
     "showTitle": false,
     "title": ""
    }
   },
   "outputs": [],
   "source": [
    "#Age breakout table\n",
    "age_df = df[df[\"Group\"] == \"By Age\"]\n",
    "age_df = age_df.select(\"Subgroup\").distinct().sort('Subgroup')\n",
    "age_df = age_df.withColumnRenamed('Subgroup', 'AgeLabel')\n",
    "display(age_df)"
   ]
  },
  {
   "cell_type": "code",
   "execution_count": null,
   "metadata": {
    "application/vnd.databricks.v1+cell": {
     "inputWidgets": {},
     "nuid": "a64d55ee-2431-49fe-888a-cab8518c3fa3",
     "showTitle": false,
     "title": ""
    }
   },
   "outputs": [],
   "source": [
    "#Load into SQL Database\n",
    "from config import server\n",
    "from config import database\n",
    "from config import user\n",
    "from config import password\n",
    "table = \"dbo.Age\"\n",
    "\n",
    "age_df.write.format('jdbc').option(\"url\", f\"jdbc:sqlserver://{server}:1433;databaseName={database};\") \\\n",
    "    .mode(\"append\") \\\n",
    "    .option(\"dbtable\", table) \\\n",
    "    .option(\"user\", user) \\\n",
    "    .option(\"password\", password) \\\n",
    "    .option(\"driver\", \"com.microsoft.sqlserver.jdbc.SQLServerDriver\") \\\n",
    "    .save()"
   ]
  },
  {
   "cell_type": "code",
   "execution_count": null,
   "metadata": {
    "application/vnd.databricks.v1+cell": {
     "inputWidgets": {},
     "nuid": "a39ed0ac-a733-4afa-a1d5-85d02728d3f3",
     "showTitle": false,
     "title": ""
    }
   },
   "outputs": [],
   "source": [
    "#Indicator breakout table\n",
    "ind_df = df.select(\"Indicator\").distinct()\n",
    "ind_df = ind_df.withColumnRenamed('Indicator', 'IndicatorLabel')\n",
    "display(ind_df)"
   ]
  },
  {
   "cell_type": "code",
   "execution_count": null,
   "metadata": {
    "application/vnd.databricks.v1+cell": {
     "inputWidgets": {},
     "nuid": "e7795d4a-3aa6-406f-9ac7-23223a3d4598",
     "showTitle": false,
     "title": ""
    }
   },
   "outputs": [],
   "source": [
    "#Load into SQL Database\n",
    "table = \"dbo.Indicator\"\n",
    "\n",
    "ind_df.write.format('jdbc').option(\"url\", f\"jdbc:sqlserver://{server}:1433;databaseName={database};\") \\\n",
    "    .mode(\"append\") \\\n",
    "    .option(\"dbtable\", table) \\\n",
    "    .option(\"user\", user) \\\n",
    "    .option(\"password\", password) \\\n",
    "    .option(\"driver\", \"com.microsoft.sqlserver.jdbc.SQLServerDriver\") \\\n",
    "    .save()"
   ]
  },
  {
   "cell_type": "code",
   "execution_count": null,
   "metadata": {
    "application/vnd.databricks.v1+cell": {
     "inputWidgets": {},
     "nuid": "6f9ac31b-724d-4d52-b3b9-5377d64859a9",
     "showTitle": false,
     "title": ""
    }
   },
   "outputs": [],
   "source": [
    "#Group breakout table\n",
    "group_df = df.select(\"Group\").distinct().sort(\"Group\")\n",
    "group_df = group_df.withColumnRenamed('Group', 'GroupLabel')\n",
    "display(group_df)"
   ]
  },
  {
   "cell_type": "code",
   "execution_count": null,
   "metadata": {
    "application/vnd.databricks.v1+cell": {
     "inputWidgets": {},
     "nuid": "7ebe743f-8c83-4e42-b3aa-6858a47e4b14",
     "showTitle": false,
     "title": ""
    }
   },
   "outputs": [],
   "source": [
    "#Load into SQL Database\n",
    "table = \"dbo.[Group]\"\n",
    "\n",
    "group_df.write.format('jdbc').option(\"url\", f\"jdbc:sqlserver://{server}:1433;databaseName={database};\") \\\n",
    "    .mode(\"append\") \\\n",
    "    .option(\"dbtable\", table) \\\n",
    "    .option(\"user\", user) \\\n",
    "    .option(\"password\", password) \\\n",
    "    .option(\"driver\", \"com.microsoft.sqlserver.jdbc.SQLServerDriver\") \\\n",
    "    .save()"
   ]
  },
  {
   "cell_type": "code",
   "execution_count": null,
   "metadata": {
    "application/vnd.databricks.v1+cell": {
     "inputWidgets": {},
     "nuid": "15bc82c3-88af-4e3c-8d9e-22da231c55b0",
     "showTitle": false,
     "title": ""
    }
   },
   "outputs": [],
   "source": [
    "#Education breakout table\n",
    "edu_df = df[df[\"Group\"] == \"By Education\"]\n",
    "edu_df = edu_df.select(\"Subgroup\").distinct().sort(\"Subgroup\")\n",
    "edu_df = edu_df.withColumnRenamed('Subgroup', 'EducationLabel')\n",
    "display(edu_df)"
   ]
  },
  {
   "cell_type": "code",
   "execution_count": null,
   "metadata": {
    "application/vnd.databricks.v1+cell": {
     "inputWidgets": {},
     "nuid": "63a2fbf1-1246-434e-b66a-9e41ac2b8105",
     "showTitle": false,
     "title": ""
    }
   },
   "outputs": [],
   "source": [
    "#Load into SQL Database\n",
    "table = \"dbo.Education\"\n",
    "\n",
    "edu_df.write.format('jdbc').option(\"url\", f\"jdbc:sqlserver://{server}:1433;databaseName={database};\") \\\n",
    "    .mode(\"append\") \\\n",
    "    .option(\"dbtable\", table) \\\n",
    "    .option(\"user\", user) \\\n",
    "    .option(\"password\", password) \\\n",
    "    .option(\"driver\", \"com.microsoft.sqlserver.jdbc.SQLServerDriver\") \\\n",
    "    .save()"
   ]
  },
  {
   "cell_type": "code",
   "execution_count": null,
   "metadata": {
    "application/vnd.databricks.v1+cell": {
     "inputWidgets": {},
     "nuid": "7f6e84e0-92c5-49e3-b313-30da189584ec",
     "showTitle": false,
     "title": ""
    }
   },
   "outputs": [],
   "source": [
    "#Week breakout table\n",
    "week_df = df.select(\"Week Label\").distinct().sort(\"Week\")\n",
    "week_df = week_df.withColumnRenamed('Week Label', 'WeekLabel')\n",
    "display(week_df)"
   ]
  },
  {
   "cell_type": "code",
   "execution_count": null,
   "metadata": {
    "application/vnd.databricks.v1+cell": {
     "inputWidgets": {},
     "nuid": "70e51792-3287-41b1-8749-349b66d88947",
     "showTitle": false,
     "title": ""
    }
   },
   "outputs": [],
   "source": [
    "#Load into SQL Database\n",
    "table = \"dbo.Week\"\n",
    "\n",
    "week_df.write.format('jdbc').option(\"url\", f\"jdbc:sqlserver://{server}:1433;databaseName={database};\") \\\n",
    "    .mode(\"append\") \\\n",
    "    .option(\"dbtable\", table) \\\n",
    "    .option(\"user\", user) \\\n",
    "    .option(\"password\", password) \\\n",
    "    .option(\"driver\", \"com.microsoft.sqlserver.jdbc.SQLServerDriver\") \\\n",
    "    .save()"
   ]
  },
  {
   "cell_type": "code",
   "execution_count": null,
   "metadata": {
    "application/vnd.databricks.v1+cell": {
     "inputWidgets": {},
     "nuid": "32b73695-8977-4f0c-a7f5-fb7f10bbccc5",
     "showTitle": false,
     "title": ""
    }
   },
   "outputs": [],
   "source": [
    "#State breakout table\n",
    "state_df = df[df[\"Group\"] == \"By State\"]\n",
    "state_df = state_df.select(\"Subgroup\").distinct().sort(\"Subgroup\")\n",
    "state_df = state_df.withColumnRenamed('Subgroup', 'StateLabel')\n",
    "display(state_df)"
   ]
  },
  {
   "cell_type": "code",
   "execution_count": null,
   "metadata": {
    "application/vnd.databricks.v1+cell": {
     "inputWidgets": {},
     "nuid": "531ee299-21ca-4fcc-9db4-1474a0f6b057",
     "showTitle": false,
     "title": ""
    }
   },
   "outputs": [],
   "source": [
    "#Load into SQL Database\n",
    "table = \"dbo.State\"\n",
    "\n",
    "state_df.write.format('jdbc').option(\"url\", f\"jdbc:sqlserver://{server}:1433;databaseName={database};\") \\\n",
    "    .mode(\"append\") \\\n",
    "    .option(\"dbtable\", table) \\\n",
    "    .option(\"user\", user) \\\n",
    "    .option(\"password\", password) \\\n",
    "    .option(\"driver\", \"com.microsoft.sqlserver.jdbc.SQLServerDriver\") \\\n",
    "    .save()"
   ]
  },
  {
   "cell_type": "code",
   "execution_count": null,
   "metadata": {
    "application/vnd.databricks.v1+cell": {
     "inputWidgets": {},
     "nuid": "425e0094-e5b3-42c2-85a1-bc4b1d90d36f",
     "showTitle": false,
     "title": ""
    }
   },
   "outputs": [],
   "source": [
    "race_df = df[df[\"Group\"] == \"By Race/Hispanic ethnicity\"]\n",
    "race_df = race_df.select(\"Subgroup\").distinct().sort(\"Subgroup\")\n",
    "race_df = race_df.withColumnRenamed('Subgroup', 'RaceLabel')\n",
    "allrace = [[\"All races\"]]\n",
    "allrace_df = spark.createDataFrame(allrace)\n",
    "race_df = race_df.union(allrace_df)\n",
    "\n",
    "race_df = race_df.withColumn(\n",
    "    \"RaceLabel\", when(col(\"RaceLabel\") == \"Hispanic or Latino\",\"Hispanic or Latino, any race\").otherwise(col(\"RaceLabel\"))\n",
    ")\n",
    "\n",
    "display(race_df)"
   ]
  },
  {
   "cell_type": "code",
   "execution_count": null,
   "metadata": {
    "application/vnd.databricks.v1+cell": {
     "inputWidgets": {},
     "nuid": "b63f55f7-cc2f-4375-894d-4277c354230d",
     "showTitle": false,
     "title": ""
    }
   },
   "outputs": [],
   "source": [
    "#Load into SQL Database\n",
    "table = \"dbo.Race\"\n",
    "\n",
    "race_df.write.format('jdbc').option(\"url\", f\"jdbc:sqlserver://{server}:1433;databaseName={database};\") \\\n",
    "    .mode(\"append\") \\\n",
    "    .option(\"dbtable\", table) \\\n",
    "    .option(\"user\", user) \\\n",
    "    .option(\"password\", password) \\\n",
    "    .option(\"driver\", \"com.microsoft.sqlserver.jdbc.SQLServerDriver\") \\\n",
    "    .save()"
   ]
  },
  {
   "cell_type": "markdown",
   "metadata": {
    "application/vnd.databricks.v1+cell": {
     "inputWidgets": {},
     "nuid": "1f04f6ea-5581-48ec-88de-99b3696c17e3",
     "showTitle": false,
     "title": ""
    }
   },
   "source": [
    "Making the InsuranceIndicators table with joins"
   ]
  },
  {
   "cell_type": "code",
   "execution_count": null,
   "metadata": {
    "application/vnd.databricks.v1+cell": {
     "inputWidgets": {},
     "nuid": "ede1be29-5ad3-4a5a-8340-5c6b7e8b7098",
     "showTitle": false,
     "title": ""
    }
   },
   "outputs": [],
   "source": [
    "df = df.drop(\"State\")\n",
    "display(df)"
   ]
  },
  {
   "cell_type": "code",
   "execution_count": null,
   "metadata": {
    "application/vnd.databricks.v1+cell": {
     "inputWidgets": {},
     "nuid": "dba4a461-f9cd-447b-a723-d459bc842462",
     "showTitle": false,
     "title": ""
    }
   },
   "outputs": [],
   "source": [
    "df = df.withColumn(\"Sex\", when((df.Group == \"By Gender\"),df.Subgroup))\n",
    "df = df.withColumn(\"Sex\", lower(col(\"Sex\")))\n",
    "df = df.withColumn(\"Race\", when((df.Group == \"By Race/Hispanic ethnicity\"),df.Subgroup))\n",
    "df = df.withColumn(\"Age\", when((df.Group == \"By Age\"),df.Subgroup))\n",
    "df = df.withColumn(\"Education\", when((df.Group == \"By Education\"),df.Subgroup))\n",
    "df = df.withColumn(\"State\", when((df.Group == \"By State\"),df.Subgroup))\n",
    "display(df)"
   ]
  },
  {
   "cell_type": "code",
   "execution_count": null,
   "metadata": {
    "application/vnd.databricks.v1+cell": {
     "inputWidgets": {},
     "nuid": "0217160d-e936-45a4-8793-3a2c6f4276aa",
     "showTitle": false,
     "title": ""
    }
   },
   "outputs": [],
   "source": [
    "table = \"dbo.Sex\"\n",
    "\n",
    "#Read from server\n",
    "sex_df = spark.read.format(\"jdbc\") \\\n",
    "    .option(\"url\", f\"jdbc:sqlserver://{server}:1433;databaseName={database};\") \\\n",
    "    .option(\"dbtable\", table) \\\n",
    "    .option(\"user\", user) \\\n",
    "    .option(\"password\", password) \\\n",
    "    .option(\"driver\", \"com.microsoft.sqlserver.jdbc.SQLServerDriver\") \\\n",
    "    .load()\n",
    "\n",
    "#show the data loaded into dataframe\n",
    "sex_df.show()"
   ]
  },
  {
   "cell_type": "code",
   "execution_count": null,
   "metadata": {
    "application/vnd.databricks.v1+cell": {
     "inputWidgets": {},
     "nuid": "88049e26-67b6-4df2-8f4a-cca1f2a50bdb",
     "showTitle": false,
     "title": ""
    }
   },
   "outputs": [],
   "source": [
    "df = df.join(sex_df, df.Sex ==  sex_df.SexLabel, \"left\")"
   ]
  },
  {
   "cell_type": "code",
   "execution_count": null,
   "metadata": {
    "application/vnd.databricks.v1+cell": {
     "inputWidgets": {},
     "nuid": "7f1d09ac-deb0-40ee-a61f-45f98b71c6a9",
     "showTitle": false,
     "title": ""
    }
   },
   "outputs": [],
   "source": [
    "table = \"dbo.Age\"\n",
    "\n",
    "#Read from server\n",
    "age_df = spark.read.format(\"jdbc\") \\\n",
    "    .option(\"url\", f\"jdbc:sqlserver://{server}:1433;databaseName={database};\") \\\n",
    "    .option(\"dbtable\", table) \\\n",
    "    .option(\"user\", user) \\\n",
    "    .option(\"password\", password) \\\n",
    "    .option(\"driver\", \"com.microsoft.sqlserver.jdbc.SQLServerDriver\") \\\n",
    "    .load()\n",
    "\n",
    "#show the data loaded into dataframe\n",
    "age_df.show()"
   ]
  },
  {
   "cell_type": "code",
   "execution_count": null,
   "metadata": {
    "application/vnd.databricks.v1+cell": {
     "inputWidgets": {},
     "nuid": "9643839d-9082-4f57-9eb3-bcddc60d247c",
     "showTitle": false,
     "title": ""
    }
   },
   "outputs": [],
   "source": [
    "df = df.join(age_df, df.Age ==  age_df.AgeLabel, \"left\")"
   ]
  },
  {
   "cell_type": "code",
   "execution_count": null,
   "metadata": {
    "application/vnd.databricks.v1+cell": {
     "inputWidgets": {},
     "nuid": "7ce59d3c-79f3-4d28-9b5a-2567e4414ef4",
     "showTitle": false,
     "title": ""
    }
   },
   "outputs": [],
   "source": [
    "table = \"dbo.[Group]\"\n",
    "\n",
    "#Read from server\n",
    "group_df = spark.read.format(\"jdbc\") \\\n",
    "    .option(\"url\", f\"jdbc:sqlserver://{server}:1433;databaseName={database};\") \\\n",
    "    .option(\"dbtable\", table) \\\n",
    "    .option(\"user\", user) \\\n",
    "    .option(\"password\", password) \\\n",
    "    .option(\"driver\", \"com.microsoft.sqlserver.jdbc.SQLServerDriver\") \\\n",
    "    .load()\n",
    "\n",
    "#show the data loaded into dataframe\n",
    "group_df.show()"
   ]
  },
  {
   "cell_type": "code",
   "execution_count": null,
   "metadata": {
    "application/vnd.databricks.v1+cell": {
     "inputWidgets": {},
     "nuid": "62fafa6c-3a95-49c9-9253-f1a46f151ce9",
     "showTitle": false,
     "title": ""
    }
   },
   "outputs": [],
   "source": [
    "df = df.join(group_df, df.Group ==  group_df.GroupLabel, \"left\")"
   ]
  },
  {
   "cell_type": "code",
   "execution_count": null,
   "metadata": {
    "application/vnd.databricks.v1+cell": {
     "inputWidgets": {},
     "nuid": "aeaed034-61a1-4133-a952-d8d60126654d",
     "showTitle": false,
     "title": ""
    }
   },
   "outputs": [],
   "source": [
    "table = \"dbo.Indicator\"\n",
    "\n",
    "#Read from server\n",
    "indicator_df = spark.read.format(\"jdbc\") \\\n",
    "    .option(\"url\", f\"jdbc:sqlserver://{server}:1433;databaseName={database};\") \\\n",
    "    .option(\"dbtable\", table) \\\n",
    "    .option(\"user\", user) \\\n",
    "    .option(\"password\", password) \\\n",
    "    .option(\"driver\", \"com.microsoft.sqlserver.jdbc.SQLServerDriver\") \\\n",
    "    .load()\n",
    "\n",
    "#show the data loaded into dataframe\n",
    "indicator_df.show()"
   ]
  },
  {
   "cell_type": "code",
   "execution_count": null,
   "metadata": {
    "application/vnd.databricks.v1+cell": {
     "inputWidgets": {},
     "nuid": "19dd156d-2499-4a25-b9c1-24af8d290b61",
     "showTitle": false,
     "title": ""
    }
   },
   "outputs": [],
   "source": [
    "df = df.join(indicator_df, df.Indicator ==  indicator_df.IndicatorLabel, \"left\")"
   ]
  },
  {
   "cell_type": "code",
   "execution_count": null,
   "metadata": {
    "application/vnd.databricks.v1+cell": {
     "inputWidgets": {},
     "nuid": "eda65fa7-da09-40d2-ac0c-3aba41d026b9",
     "showTitle": false,
     "title": ""
    }
   },
   "outputs": [],
   "source": [
    "table = \"dbo.Race\"\n",
    "\n",
    "#Read from server\n",
    "race_df = spark.read.format(\"jdbc\") \\\n",
    "    .option(\"url\", f\"jdbc:sqlserver://{server}:1433;databaseName={database};\") \\\n",
    "    .option(\"dbtable\", table) \\\n",
    "    .option(\"user\", user) \\\n",
    "    .option(\"password\", password) \\\n",
    "    .option(\"driver\", \"com.microsoft.sqlserver.jdbc.SQLServerDriver\") \\\n",
    "    .load()\n",
    "\n",
    "#show the data loaded into dataframe\n",
    "race_df.show()"
   ]
  },
  {
   "cell_type": "code",
   "execution_count": null,
   "metadata": {
    "application/vnd.databricks.v1+cell": {
     "inputWidgets": {},
     "nuid": "8e219c22-9d6f-4acd-81ec-7ef12b3e1da9",
     "showTitle": false,
     "title": ""
    }
   },
   "outputs": [],
   "source": [
    "df = df.join(race_df, df.Race ==  race_df.RaceLabel, \"left\")"
   ]
  },
  {
   "cell_type": "code",
   "execution_count": null,
   "metadata": {
    "application/vnd.databricks.v1+cell": {
     "inputWidgets": {},
     "nuid": "d15ffe0a-837e-4aaa-be8a-d76f106de785",
     "showTitle": false,
     "title": ""
    }
   },
   "outputs": [],
   "source": [
    "table = \"dbo.Education\"\n",
    "\n",
    "#Read from server\n",
    "education_df = spark.read.format(\"jdbc\") \\\n",
    "    .option(\"url\", f\"jdbc:sqlserver://{server}:1433;databaseName={database};\") \\\n",
    "    .option(\"dbtable\", table) \\\n",
    "    .option(\"user\", user) \\\n",
    "    .option(\"password\", password) \\\n",
    "    .option(\"driver\", \"com.microsoft.sqlserver.jdbc.SQLServerDriver\") \\\n",
    "    .load()\n",
    "\n",
    "#show the data loaded into dataframe\n",
    "education_df.show()"
   ]
  },
  {
   "cell_type": "code",
   "execution_count": null,
   "metadata": {
    "application/vnd.databricks.v1+cell": {
     "inputWidgets": {},
     "nuid": "51f76922-4404-42d3-8753-db140f7bc061",
     "showTitle": false,
     "title": ""
    }
   },
   "outputs": [],
   "source": [
    "df = df.join(education_df, df.Education ==  education_df.EducationLabel, \"left\")"
   ]
  },
  {
   "cell_type": "code",
   "execution_count": null,
   "metadata": {
    "application/vnd.databricks.v1+cell": {
     "inputWidgets": {},
     "nuid": "d55700d0-b650-4992-87c3-969c1bc39f05",
     "showTitle": false,
     "title": ""
    }
   },
   "outputs": [],
   "source": [
    "table = \"dbo.State\"\n",
    "\n",
    "#Read from server\n",
    "state_df = spark.read.format(\"jdbc\") \\\n",
    "    .option(\"url\", f\"jdbc:sqlserver://{server}:1433;databaseName={database};\") \\\n",
    "    .option(\"dbtable\", table) \\\n",
    "    .option(\"user\", user) \\\n",
    "    .option(\"password\", password) \\\n",
    "    .option(\"driver\", \"com.microsoft.sqlserver.jdbc.SQLServerDriver\") \\\n",
    "    .load()\n",
    "\n",
    "#show the data loaded into dataframe\n",
    "state_df.show()"
   ]
  },
  {
   "cell_type": "code",
   "execution_count": null,
   "metadata": {
    "application/vnd.databricks.v1+cell": {
     "inputWidgets": {},
     "nuid": "df168597-5eac-4145-a4e7-cbab0bd36f91",
     "showTitle": false,
     "title": ""
    }
   },
   "outputs": [],
   "source": [
    "df = df.join(state_df, df.State ==  state_df.StateLabel, \"left\")"
   ]
  },
  {
   "cell_type": "code",
   "execution_count": null,
   "metadata": {
    "application/vnd.databricks.v1+cell": {
     "inputWidgets": {},
     "nuid": "db8c1b12-9c0c-485e-ad3d-1ec2e6aa0a95",
     "showTitle": false,
     "title": ""
    }
   },
   "outputs": [],
   "source": [
    "table = \"dbo.Week\"\n",
    "\n",
    "#Read from server\n",
    "week_df = spark.read.format(\"jdbc\") \\\n",
    "    .option(\"url\", f\"jdbc:sqlserver://{server}:1433;databaseName={database};\") \\\n",
    "    .option(\"dbtable\", table) \\\n",
    "    .option(\"user\", user) \\\n",
    "    .option(\"password\", password) \\\n",
    "    .option(\"driver\", \"com.microsoft.sqlserver.jdbc.SQLServerDriver\") \\\n",
    "    .load()\n",
    "\n",
    "#show the data loaded into dataframe\n",
    "week_df.show()"
   ]
  },
  {
   "cell_type": "code",
   "execution_count": null,
   "metadata": {
    "application/vnd.databricks.v1+cell": {
     "inputWidgets": {},
     "nuid": "2037645d-7303-454c-b80d-3939c453e778",
     "showTitle": false,
     "title": ""
    }
   },
   "outputs": [],
   "source": [
    "df = df.join(week_df, col('Week Label') ==  week_df.WeekLabel, \"left\")\n",
    "display(df)"
   ]
  },
  {
   "cell_type": "code",
   "execution_count": null,
   "metadata": {
    "application/vnd.databricks.v1+cell": {
     "inputWidgets": {},
     "nuid": "d4b22137-91a5-4190-94c7-cdbd805be33a",
     "showTitle": false,
     "title": ""
    }
   },
   "outputs": [],
   "source": [
    "df = df.drop(\"Subgroup\", \"Indicator\", \"Group\", \"Age\", \"Sex\", \"Race\", \"Education\", \"State\", \"Week\", \"Week Label\", \"IndicatorLabel\", \"GroupLabel\", \"AgeLabel\", \"SexLabel\", \"RaceLabel\", \"EducationLabel\", \"StateLabel\", \"WeekLabel\")"
   ]
  },
  {
   "cell_type": "code",
   "execution_count": null,
   "metadata": {
    "application/vnd.databricks.v1+cell": {
     "inputWidgets": {},
     "nuid": "92c57ae4-7c3f-4fb3-b3e6-9185ecef528e",
     "showTitle": false,
     "title": ""
    }
   },
   "outputs": [],
   "source": [
    "df = df.withColumnRenamed('Value', 'DataValue')\n",
    "display(df)"
   ]
  },
  {
   "cell_type": "code",
   "execution_count": null,
   "metadata": {
    "application/vnd.databricks.v1+cell": {
     "inputWidgets": {},
     "nuid": "f614b5b3-9810-4576-8f41-fb3f85e40c42",
     "showTitle": false,
     "title": ""
    }
   },
   "outputs": [],
   "source": [
    "#Load to SQL Database\n",
    "table = \"dbo.InsuranceCoverage\"\n",
    "\n",
    "df.write.format('jdbc').option(\"url\", f\"jdbc:sqlserver://{server}:1433;databaseName={database};\") \\\n",
    "    .mode(\"append\") \\\n",
    "    .option(\"dbtable\", table) \\\n",
    "    .option(\"user\", user) \\\n",
    "    .option(\"password\", password) \\\n",
    "    .option(\"driver\", \"com.microsoft.sqlserver.jdbc.SQLServerDriver\") \\\n",
    "    .save()"
   ]
  },
  {
   "cell_type": "code",
   "execution_count": null,
   "metadata": {
    "application/vnd.databricks.v1+cell": {
     "inputWidgets": {},
     "nuid": "d6699e1b-ef7d-4450-869b-32bebe9ded54",
     "showTitle": false,
     "title": ""
    }
   },
   "outputs": [],
   "source": []
  }
 ],
 "metadata": {
  "application/vnd.databricks.v1+notebook": {
   "dashboards": [],
   "language": "python",
   "notebookMetadata": {
    "pythonIndentUnit": 4
   },
   "notebookName": "Indicators_ETL",
   "notebookOrigID": 222430225655883,
   "widgets": {}
  },
  "kernelspec": {
   "display_name": "Python 3 (ipykernel)",
   "language": "python",
   "name": "python3"
  },
  "language_info": {
   "codemirror_mode": {
    "name": "ipython",
    "version": 3
   },
   "file_extension": ".py",
   "mimetype": "text/x-python",
   "name": "python",
   "nbconvert_exporter": "python",
   "pygments_lexer": "ipython3",
   "version": "3.9.12"
  }
 },
 "nbformat": 4,
 "nbformat_minor": 1
}
