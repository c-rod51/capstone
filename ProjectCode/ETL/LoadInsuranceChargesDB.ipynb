{
 "cells": [
  {
   "cell_type": "markdown",
   "metadata": {
    "application/vnd.databricks.v1+cell": {
     "inputWidgets": {},
     "nuid": "1b8dfb3e-1203-4666-8df0-02f856f8d219",
     "showTitle": false,
     "title": ""
    }
   },
   "source": [
    "Loading the InsuranceCosts table in our Database"
   ]
  },
  {
   "cell_type": "code",
   "execution_count": null,
   "metadata": {
    "application/vnd.databricks.v1+cell": {
     "inputWidgets": {},
     "nuid": "35d92158-6e24-41fd-a763-423f1fe693e9",
     "showTitle": false,
     "title": ""
    }
   },
   "outputs": [],
   "source": [
    "# Mount the capstone container (output)\n",
    "from config import storageAccount\n",
    "from config import storageContainer\n",
    "from config import clientSecret\n",
    "from config import clientid\n",
    "mount_point = \"/mnt/capstone-group2-data/datain\"\n",
    "    \n",
    "    \n",
    "configs = {\"fs.azure.account.auth.type\": \"OAuth\",\n",
    "   \"fs.azure.account.oauth.provider.type\": \"org.apache.hadoop.fs.azurebfs.oauth2.ClientCredsTokenProvider\",\n",
    "   \"fs.azure.account.oauth2.client.id\": clientid,\n",
    "   \"fs.azure.account.oauth2.client.secret\": clientSecret,\n",
    "   \"fs.azure.account.oauth2.client.endpoint\": \"https://login.microsoftonline.com/d46b54b2-a652-420b-aa5a-2ef7f8fc706e/oauth2/token\",\n",
    "   \"fs.azure.createRemoteFileSystemDuringInitialization\": \"true\"}\n",
    "\n",
    "try:\n",
    "    dbutils.fs.unmount(mount_point)\n",
    "except:\n",
    "    pass\n",
    "\n",
    "\n",
    "dbutils.fs.mount(\n",
    "source = f\"abfss://{storageContainer}@{storageAccount}.dfs.core.windows.net/\", \n",
    "mount_point = mount_point, \n",
    "extra_configs = configs)"
   ]
  },
  {
   "cell_type": "code",
   "execution_count": null,
   "metadata": {
    "application/vnd.databricks.v1+cell": {
     "inputWidgets": {},
     "nuid": "003f1f29-695b-4e5e-920d-6038de3b9b53",
     "showTitle": false,
     "title": ""
    }
   },
   "outputs": [],
   "source": [
    "df = spark.read.option(\"header\", \"true\").csv(\"/mnt/capstone-group2-data/datain/cleandata/cleanHealthCosts/clean_insurance\")"
   ]
  },
  {
   "cell_type": "code",
   "execution_count": null,
   "metadata": {
    "application/vnd.databricks.v1+cell": {
     "inputWidgets": {},
     "nuid": "ae5e3354-de49-4561-ab48-613056111434",
     "showTitle": false,
     "title": ""
    }
   },
   "outputs": [],
   "source": [
    "#Age breakout table\n",
    "age_df = df.select(\"age\").distinct().sort('age')\n",
    "age_df = age_df.withColumnRenamed('age', 'AgeLabel')\n",
    "display(age_df)"
   ]
  },
  {
   "cell_type": "code",
   "execution_count": null,
   "metadata": {
    "application/vnd.databricks.v1+cell": {
     "inputWidgets": {},
     "nuid": "7989b7cf-f6ae-444b-a53b-e604f718b3a8",
     "showTitle": false,
     "title": ""
    }
   },
   "outputs": [],
   "source": [
    "#Load into SQL Database\n",
    "from config import server\n",
    "from config import database\n",
    "from config import user\n",
    "from config import password\n",
    "table = \"dbo.Age\"\n",
    "\n",
    "age_df.write.format('jdbc').option(\"url\", f\"jdbc:sqlserver://{server}:1433;databaseName={database};\") \\\n",
    "    .mode(\"append\") \\\n",
    "    .option(\"dbtable\", table) \\\n",
    "    .option(\"user\", user) \\\n",
    "    .option(\"password\", password) \\\n",
    "    .option(\"driver\", \"com.microsoft.sqlserver.jdbc.SQLServerDriver\") \\\n",
    "    .save()"
   ]
  },
  {
   "cell_type": "code",
   "execution_count": null,
   "metadata": {
    "application/vnd.databricks.v1+cell": {
     "inputWidgets": {},
     "nuid": "03d12d57-896c-47d4-a97f-dd3b39cb0c99",
     "showTitle": false,
     "title": ""
    }
   },
   "outputs": [],
   "source": [
    "#Sex breakout table\n",
    "sex_df = df.select(\"sex\").distinct()\n",
    "sex_df = sex_df.withColumnRenamed('sex', 'SexLabel')\n",
    "display(sex_df)"
   ]
  },
  {
   "cell_type": "code",
   "execution_count": null,
   "metadata": {
    "application/vnd.databricks.v1+cell": {
     "inputWidgets": {},
     "nuid": "d5c9d231-a55b-4689-9743-8509c866707f",
     "showTitle": false,
     "title": ""
    }
   },
   "outputs": [],
   "source": [
    "#Load into SQL Database\n",
    "table = \"dbo.Sex\"\n",
    "\n",
    "appended.write.format('jdbc').option(\"url\", f\"jdbc:sqlserver://{server}:1433;databaseName={database};\") \\\n",
    "    .mode(\"append\") \\\n",
    "    .option(\"dbtable\", table) \\\n",
    "    .option(\"user\", user) \\\n",
    "    .option(\"password\", password) \\\n",
    "    .option(\"driver\", \"com.microsoft.sqlserver.jdbc.SQLServerDriver\") \\\n",
    "    .save()"
   ]
  },
  {
   "cell_type": "code",
   "execution_count": null,
   "metadata": {
    "application/vnd.databricks.v1+cell": {
     "inputWidgets": {},
     "nuid": "09e6fd36-458b-4f05-9e4f-c284bd6d5908",
     "showTitle": false,
     "title": ""
    }
   },
   "outputs": [],
   "source": [
    "#Region breakout table\n",
    "region_df = df.select(\"region\").distinct()\n",
    "region_df = region_df.withColumnRenamed('region', 'RegionLabel')\n",
    "display(region_df)"
   ]
  },
  {
   "cell_type": "code",
   "execution_count": null,
   "metadata": {
    "application/vnd.databricks.v1+cell": {
     "inputWidgets": {},
     "nuid": "535bd618-83b9-43fa-8b63-6b8d30384b7c",
     "showTitle": false,
     "title": ""
    }
   },
   "outputs": [],
   "source": [
    "#Load into SQL Database\n",
    "table = \"dbo.Region\"\n",
    "\n",
    "region_df.write.format('jdbc').option(\"url\", f\"jdbc:sqlserver://{server}:1433;databaseName={database};\") \\\n",
    "    .mode(\"append\") \\\n",
    "    .option(\"dbtable\", table) \\\n",
    "    .option(\"user\", user) \\\n",
    "    .option(\"password\", password) \\\n",
    "    .option(\"driver\", \"com.microsoft.sqlserver.jdbc.SQLServerDriver\") \\\n",
    "    .save()"
   ]
  },
  {
   "cell_type": "code",
   "execution_count": null,
   "metadata": {
    "application/vnd.databricks.v1+cell": {
     "inputWidgets": {},
     "nuid": "7e0e6041-9fb3-403e-b3a5-20c08eb86195",
     "showTitle": false,
     "title": ""
    }
   },
   "outputs": [],
   "source": [
    "#Smoker breakout table\n",
    "smoker_df = df.select(\"smoker\").distinct()\n",
    "smoker_df = smoker_df.withColumnRenamed('smoker', 'SmokerLabel')\n",
    "display(smoker_df)"
   ]
  },
  {
   "cell_type": "code",
   "execution_count": null,
   "metadata": {
    "application/vnd.databricks.v1+cell": {
     "inputWidgets": {},
     "nuid": "029bb46d-74b6-4f55-b3de-f940ecdb9191",
     "showTitle": false,
     "title": ""
    }
   },
   "outputs": [],
   "source": [
    "#Load into SQL Database\n",
    "table = \"dbo.Smoker\"\n",
    "\n",
    "smoker_df.write.format('jdbc').option(\"url\", f\"jdbc:sqlserver://{server}:1433;databaseName={database};\") \\\n",
    "    .mode(\"append\") \\\n",
    "    .option(\"dbtable\", table) \\\n",
    "    .option(\"user\", user) \\\n",
    "    .option(\"password\", password) \\\n",
    "    .option(\"driver\", \"com.microsoft.sqlserver.jdbc.SQLServerDriver\") \\\n",
    "    .save()"
   ]
  },
  {
   "cell_type": "code",
   "execution_count": null,
   "metadata": {
    "application/vnd.databricks.v1+cell": {
     "inputWidgets": {},
     "nuid": "9ed0aef8-7c59-4567-8746-258b92fc71b8",
     "showTitle": false,
     "title": ""
    }
   },
   "outputs": [],
   "source": [
    "#Children breakout table\n",
    "children_df = df.select(\"children\").distinct().sort('children')\n",
    "children_df = children_df.withColumnRenamed('children', 'ChildrenLabel')\n",
    "display(children_df)"
   ]
  },
  {
   "cell_type": "code",
   "execution_count": null,
   "metadata": {
    "application/vnd.databricks.v1+cell": {
     "inputWidgets": {},
     "nuid": "085929fe-79fb-4b46-afdd-5595efcd4379",
     "showTitle": false,
     "title": ""
    }
   },
   "outputs": [],
   "source": [
    "#Load to SQL Database\n",
    "table = \"dbo.Children\"\n",
    "\n",
    "children_df.write.format('jdbc').option(\"url\", f\"jdbc:sqlserver://{server}:1433;databaseName={database};\") \\\n",
    "    .mode(\"append\") \\\n",
    "    .option(\"dbtable\", table) \\\n",
    "    .option(\"user\", user) \\\n",
    "    .option(\"password\", password) \\\n",
    "    .option(\"driver\", \"com.microsoft.sqlserver.jdbc.SQLServerDriver\") \\\n",
    "    .save()"
   ]
  },
  {
   "cell_type": "markdown",
   "metadata": {
    "application/vnd.databricks.v1+cell": {
     "inputWidgets": {},
     "nuid": "b710b2d1-8f54-4e41-b861-1136b4b4f99e",
     "showTitle": false,
     "title": ""
    }
   },
   "source": [
    "Make the InsuranceCharges table through joins of other tables"
   ]
  },
  {
   "cell_type": "code",
   "execution_count": null,
   "metadata": {
    "application/vnd.databricks.v1+cell": {
     "inputWidgets": {},
     "nuid": "a20149a1-26b7-4eae-bb59-c3e1ab8680be",
     "showTitle": false,
     "title": ""
    }
   },
   "outputs": [],
   "source": [
    "table = \"dbo.Sex\"\n",
    "\n",
    "#Read from server\n",
    "sex_df = spark.read.format(\"jdbc\") \\\n",
    "    .option(\"url\", f\"jdbc:sqlserver://{server}:1433;databaseName={database};\") \\\n",
    "    .option(\"dbtable\", table) \\\n",
    "    .option(\"user\", user) \\\n",
    "    .option(\"password\", password) \\\n",
    "    .option(\"driver\", \"com.microsoft.sqlserver.jdbc.SQLServerDriver\") \\\n",
    "    .load()\n",
    "\n",
    "#show the data loaded into dataframe\n",
    "sex_df.show()"
   ]
  },
  {
   "cell_type": "code",
   "execution_count": null,
   "metadata": {
    "application/vnd.databricks.v1+cell": {
     "inputWidgets": {},
     "nuid": "63a0f8e5-abd0-4dbe-8b70-2973c285a6a4",
     "showTitle": false,
     "title": ""
    }
   },
   "outputs": [],
   "source": [
    "df = df.join(sex_df, df.sex ==  sex_df.SexLabel, \"left\")"
   ]
  },
  {
   "cell_type": "code",
   "execution_count": null,
   "metadata": {
    "application/vnd.databricks.v1+cell": {
     "inputWidgets": {},
     "nuid": "b52e37e9-59b4-4e09-a827-b31de3a7af8e",
     "showTitle": false,
     "title": ""
    }
   },
   "outputs": [],
   "source": [
    "table = \"dbo.Age\"\n",
    "\n",
    "#Read from server\n",
    "age_df = spark.read.format(\"jdbc\") \\\n",
    "    .option(\"url\", f\"jdbc:sqlserver://{server}:1433;databaseName={database};\") \\\n",
    "    .option(\"dbtable\", table) \\\n",
    "    .option(\"user\", user) \\\n",
    "    .option(\"password\", password) \\\n",
    "    .option(\"driver\", \"com.microsoft.sqlserver.jdbc.SQLServerDriver\") \\\n",
    "    .load()\n",
    "\n",
    "#show the data loaded into dataframe\n",
    "age_df.show()"
   ]
  },
  {
   "cell_type": "code",
   "execution_count": null,
   "metadata": {
    "application/vnd.databricks.v1+cell": {
     "inputWidgets": {},
     "nuid": "e507c744-0ba4-4541-acf8-d1af5b22885d",
     "showTitle": false,
     "title": ""
    }
   },
   "outputs": [],
   "source": [
    "df = df.join(age_df, df.age ==  age_df.AgeLabel, \"left\")"
   ]
  },
  {
   "cell_type": "code",
   "execution_count": null,
   "metadata": {
    "application/vnd.databricks.v1+cell": {
     "inputWidgets": {},
     "nuid": "0b6542a0-6bc8-4fec-af21-ad79f0242230",
     "showTitle": false,
     "title": ""
    }
   },
   "outputs": [],
   "source": [
    "table = \"dbo.Region\"\n",
    "\n",
    "#Read from server\n",
    "region_df = spark.read.format(\"jdbc\") \\\n",
    "    .option(\"url\", f\"jdbc:sqlserver://{server}:1433;databaseName={database};\") \\\n",
    "    .option(\"dbtable\", table) \\\n",
    "    .option(\"user\", user) \\\n",
    "    .option(\"password\", password) \\\n",
    "    .option(\"driver\", \"com.microsoft.sqlserver.jdbc.SQLServerDriver\") \\\n",
    "    .load()\n",
    "\n",
    "#show the data loaded into dataframe\n",
    "region_df.show()"
   ]
  },
  {
   "cell_type": "code",
   "execution_count": null,
   "metadata": {
    "application/vnd.databricks.v1+cell": {
     "inputWidgets": {},
     "nuid": "fe2f4579-16ff-498f-9188-71369d2bb172",
     "showTitle": false,
     "title": ""
    }
   },
   "outputs": [],
   "source": [
    "df = df.join(region_df, df.region ==  region_df.RegionLabel, \"left\")"
   ]
  },
  {
   "cell_type": "code",
   "execution_count": null,
   "metadata": {
    "application/vnd.databricks.v1+cell": {
     "inputWidgets": {},
     "nuid": "69e28d1a-b816-435a-a532-e9899edab597",
     "showTitle": false,
     "title": ""
    }
   },
   "outputs": [],
   "source": [
    "table = \"dbo.Smoker\"\n",
    "\n",
    "#Read from server\n",
    "smoker_df = spark.read.format(\"jdbc\") \\\n",
    "    .option(\"url\", f\"jdbc:sqlserver://{server}:1433;databaseName={database};\") \\\n",
    "    .option(\"dbtable\", table) \\\n",
    "    .option(\"user\", user) \\\n",
    "    .option(\"password\", password) \\\n",
    "    .option(\"driver\", \"com.microsoft.sqlserver.jdbc.SQLServerDriver\") \\\n",
    "    .load()\n",
    "\n",
    "#show the data loaded into dataframe\n",
    "smoker_df.show()"
   ]
  },
  {
   "cell_type": "code",
   "execution_count": null,
   "metadata": {
    "application/vnd.databricks.v1+cell": {
     "inputWidgets": {},
     "nuid": "fdc33dfb-528b-4d67-9f22-d6daf63dbb4f",
     "showTitle": false,
     "title": ""
    }
   },
   "outputs": [],
   "source": [
    "df = df.join(smoker_df, df.smoker ==  smoker_df.SmokerLabel, \"left\")"
   ]
  },
  {
   "cell_type": "code",
   "execution_count": null,
   "metadata": {
    "application/vnd.databricks.v1+cell": {
     "inputWidgets": {},
     "nuid": "d3da7519-c19e-4617-aeb5-11b45bf85a61",
     "showTitle": false,
     "title": ""
    }
   },
   "outputs": [],
   "source": [
    "table = \"dbo.Children\"\n",
    "\n",
    "#Read from server\n",
    "children_df = spark.read.format(\"jdbc\") \\\n",
    "    .option(\"url\", f\"jdbc:sqlserver://{server}:1433;databaseName={database};\") \\\n",
    "    .option(\"dbtable\", table) \\\n",
    "    .option(\"user\", user) \\\n",
    "    .option(\"password\", password) \\\n",
    "    .option(\"driver\", \"com.microsoft.sqlserver.jdbc.SQLServerDriver\") \\\n",
    "    .load()\n",
    "\n",
    "#show the data loaded into dataframe\n",
    "children_df.show()"
   ]
  },
  {
   "cell_type": "code",
   "execution_count": null,
   "metadata": {
    "application/vnd.databricks.v1+cell": {
     "inputWidgets": {},
     "nuid": "934544e0-b5b7-4ef3-b603-8ce7e57562ea",
     "showTitle": false,
     "title": ""
    }
   },
   "outputs": [],
   "source": [
    "df = df.join(children_df, df.children ==  children_df.ChildrenLabel, \"left\")\n",
    "display(df)"
   ]
  },
  {
   "cell_type": "code",
   "execution_count": null,
   "metadata": {
    "application/vnd.databricks.v1+cell": {
     "inputWidgets": {},
     "nuid": "d0c39d56-b2c1-4f4a-b120-72977d4ca744",
     "showTitle": false,
     "title": ""
    }
   },
   "outputs": [],
   "source": [
    "df = df.drop(\"age\", \"children\", \"region\", \"sex\", \"smoker\", \"timestamp\", \"SexLabel\", \"AgeLabel\", \"RegionLabel\", \"SmokerLabel\", \"ChildrenLabel\")"
   ]
  },
  {
   "cell_type": "code",
   "execution_count": null,
   "metadata": {
    "application/vnd.databricks.v1+cell": {
     "inputWidgets": {},
     "nuid": "71828336-c280-463c-b220-8fd7c9ede44c",
     "showTitle": false,
     "title": ""
    }
   },
   "outputs": [],
   "source": [
    "df = df.withColumnRenamed('charges', 'ChargeValue')\n",
    "df = df.withColumnRenamed('bmi', 'BMI')"
   ]
  },
  {
   "cell_type": "code",
   "execution_count": null,
   "metadata": {
    "application/vnd.databricks.v1+cell": {
     "inputWidgets": {},
     "nuid": "785bbfc1-8831-4ba2-9340-ede6621bb6bf",
     "showTitle": false,
     "title": ""
    }
   },
   "outputs": [],
   "source": [
    "display(df)"
   ]
  },
  {
   "cell_type": "code",
   "execution_count": null,
   "metadata": {
    "application/vnd.databricks.v1+cell": {
     "inputWidgets": {},
     "nuid": "d832629e-363b-4814-b4db-beeda4ce9ee1",
     "showTitle": false,
     "title": ""
    }
   },
   "outputs": [],
   "source": [
    "#Load to SQL Database\n",
    "table = \"dbo.InsuranceCharges\"\n",
    "\n",
    "df.write.format('jdbc').option(\"url\", f\"jdbc:sqlserver://{server}:1433;databaseName={database};\") \\\n",
    "    .mode(\"append\") \\\n",
    "    .option(\"dbtable\", table) \\\n",
    "    .option(\"user\", user) \\\n",
    "    .option(\"password\", password) \\\n",
    "    .option(\"driver\", \"com.microsoft.sqlserver.jdbc.SQLServerDriver\") \\\n",
    "    .save()"
   ]
  }
 ],
 "metadata": {
  "application/vnd.databricks.v1+notebook": {
   "dashboards": [],
   "language": "python",
   "notebookMetadata": {
    "pythonIndentUnit": 4
   },
   "notebookName": "LoadInsuranceChargesDB",
   "notebookOrigID": 1390287949281575,
   "widgets": {}
  },
  "kernelspec": {
   "display_name": "Python 3 (ipykernel)",
   "language": "python",
   "name": "python3"
  },
  "language_info": {
   "codemirror_mode": {
    "name": "ipython",
    "version": 3
   },
   "file_extension": ".py",
   "mimetype": "text/x-python",
   "name": "python",
   "nbconvert_exporter": "python",
   "pygments_lexer": "ipython3",
   "version": "3.9.12"
  }
 },
 "nbformat": 4,
 "nbformat_minor": 1
}
