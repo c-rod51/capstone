{
 "cells": [
  {
   "cell_type": "markdown",
   "id": "41f3f459",
   "metadata": {},
   "source": [
    "# Further Tuning of the ML Model for the InsuranceCharges Data\n",
    "\n",
    "Since we saw that the model does not perform differently including sex, we will remove it from our data. In `ML-DBmodel.ipynb` we saw that the LinearRegression (i.e. Lasso with $\\alpha$ = 0) was the best performing model.\n",
    "\n",
    "In this notebook we will try to improve the $R^2$ value of the LinearRegression model"
   ]
  },
  {
   "cell_type": "code",
   "execution_count": 1,
   "id": "2fa37d74",
   "metadata": {},
   "outputs": [],
   "source": [
    "import numpy as np\n",
    "import pandas as pd\n",
    "import matplotlib.pyplot as plt\n",
    "from sklearn.linear_model import LinearRegression\n",
    "from sklearn.linear_model import Lasso, LassoCV\n",
    "from sklearn.model_selection import train_test_split\n",
    "from sklearn.model_selection import GridSearchCV, cross_val_score\n",
    "from sklearn.pipeline import make_pipeline\n",
    "from sklearn.preprocessing import PolynomialFeatures\n",
    "#For connecting with SQL database\n",
    "import pymssql\n",
    "from config import database\n",
    "from config import username\n",
    "from config import password\n",
    "from config import server"
   ]
  },
  {
   "cell_type": "code",
   "execution_count": 2,
   "id": "d5388036",
   "metadata": {},
   "outputs": [],
   "source": [
    "#Create connectiong to databse\n",
    "conn = pymssql.connect(server, username, password, database)\n",
    "cursor = conn.cursor()"
   ]
  },
  {
   "cell_type": "code",
   "execution_count": 3,
   "id": "314988f8",
   "metadata": {},
   "outputs": [
    {
     "name": "stderr",
     "output_type": "stream",
     "text": [
      "C:\\Users\\Christian\\anaconda3\\lib\\site-packages\\pandas\\io\\sql.py:761: UserWarning: pandas only support SQLAlchemy connectable(engine/connection) ordatabase string URI or sqlite3 DBAPI2 connectionother DBAPI2 objects are not tested, please consider using SQLAlchemy\n",
      "  warnings.warn(\n"
     ]
    }
   ],
   "source": [
    "#Run the query to gather the table\n",
    "table = 'dbo.InsuranceCharges'\n",
    "\n",
    "querycosts = '''Select I.ChargeID, I.ChargeValue, I.AgeID, A.AgeLabel, I.ChildrenID, C.ChildrenLabel, I.RegionID, \n",
    "R.RegionLabel, I.SexID, S.SexLabel, I.SmokerID, Sm.SmokerLabel, I.BMI from InsuranceCharges I\n",
    "inner join Age A on I.AgeID = A.AgeID\n",
    "inner join Children C on  I.ChildrenID = C.ChildrenID\n",
    "inner join Region R on  I.RegionID = R.RegionID\n",
    "inner join Sex S on  I.SexID = S.SexID\n",
    "inner join Smoker Sm on  I.SmokerID = Sm.SmokerID\n",
    "'''\n",
    "#Load the query to a pandas dataframe\n",
    "df_costs = pd.read_sql(querycosts, conn)"
   ]
  },
  {
   "cell_type": "code",
   "execution_count": 4,
   "id": "9e067462",
   "metadata": {},
   "outputs": [
    {
     "name": "stdout",
     "output_type": "stream",
     "text": [
      "<class 'pandas.core.frame.DataFrame'>\n",
      "RangeIndex: 1338 entries, 0 to 1337\n",
      "Data columns (total 8 columns):\n",
      " #   Column                 Non-Null Count  Dtype  \n",
      "---  ------                 --------------  -----  \n",
      " 0   AgeLabel               1338 non-null   int32  \n",
      " 1   BMI                    1338 non-null   float64\n",
      " 2   ChildrenLabel          1338 non-null   int32  \n",
      " 3   ChargeValue            1338 non-null   float64\n",
      " 4   RegionLabel_northwest  1338 non-null   uint8  \n",
      " 5   RegionLabel_southeast  1338 non-null   uint8  \n",
      " 6   RegionLabel_southwest  1338 non-null   uint8  \n",
      " 7   SmokerLabel_True       1338 non-null   uint8  \n",
      "dtypes: float64(2), int32(2), uint8(4)\n",
      "memory usage: 36.7 KB\n"
     ]
    }
   ],
   "source": [
    "df = df_costs[['AgeLabel', 'BMI', 'ChildrenLabel', 'RegionLabel', 'ChargeValue', 'SmokerLabel']]\n",
    "\n",
    "#Make sure all columns are numerical in order to feed them into the ML model\n",
    "df = df.astype({\"AgeLabel\": int, \"ChildrenLabel\": int})\n",
    "df_dummies = pd.get_dummies(df, columns = ['RegionLabel', 'SmokerLabel'], drop_first = True)\n",
    "\n",
    "df_dummies.info()"
   ]
  },
  {
   "cell_type": "markdown",
   "id": "50fcc57d",
   "metadata": {},
   "source": [
    "Now we isolate the target variable (`ChargeValue`) and assign it as `y`, which is a culmination of individual medical costs incurred by people with attributes `X` (i.e. `AgeLabel`, `BMI`, `ChildrenLabel`, `RegionaLabel`, `SmokerLabel`)."
   ]
  },
  {
   "cell_type": "code",
   "execution_count": 5,
   "id": "cada57ae",
   "metadata": {},
   "outputs": [],
   "source": [
    "X = df_dummies.drop(columns = 'ChargeValue').copy()\n",
    "y = df_dummies[['ChargeValue']].copy()"
   ]
  },
  {
   "cell_type": "code",
   "execution_count": 6,
   "id": "d4cda6a9",
   "metadata": {},
   "outputs": [],
   "source": [
    "X_train, X_test, y_train, y_test = train_test_split(X, y, test_size=0.20, random_state = 9)"
   ]
  },
  {
   "cell_type": "code",
   "execution_count": 7,
   "id": "86e86ec7",
   "metadata": {},
   "outputs": [],
   "source": [
    "model = make_pipeline(PolynomialFeatures(degree=2),\n",
    "                      LinearRegression())"
   ]
  },
  {
   "cell_type": "code",
   "execution_count": 8,
   "id": "a61c1645",
   "metadata": {},
   "outputs": [],
   "source": [
    "param_grid = {'polynomialfeatures__degree': np.arange(1, 8)}\n",
    "\n",
    "grid = GridSearchCV(model, param_grid, cv=7)"
   ]
  },
  {
   "cell_type": "code",
   "execution_count": 9,
   "id": "54e8a52a",
   "metadata": {},
   "outputs": [
    {
     "data": {
      "text/plain": [
       "GridSearchCV(cv=7,\n",
       "             estimator=Pipeline(steps=[('polynomialfeatures',\n",
       "                                        PolynomialFeatures()),\n",
       "                                       ('linearregression',\n",
       "                                        LinearRegression())]),\n",
       "             param_grid={'polynomialfeatures__degree': array([1, 2, 3, 4, 5, 6, 7])})"
      ]
     },
     "execution_count": 9,
     "metadata": {},
     "output_type": "execute_result"
    }
   ],
   "source": [
    "grid.fit(X_train, y_train)"
   ]
  },
  {
   "cell_type": "code",
   "execution_count": 10,
   "id": "91ee3a11",
   "metadata": {},
   "outputs": [
    {
     "data": {
      "text/plain": [
       "{'polynomialfeatures__degree': 3}"
      ]
     },
     "execution_count": 10,
     "metadata": {},
     "output_type": "execute_result"
    }
   ],
   "source": [
    "grid.best_params_"
   ]
  },
  {
   "cell_type": "markdown",
   "id": "220e1677",
   "metadata": {},
   "source": [
    "The best params are\n",
    "* polynomialfeatures_degree: 3"
   ]
  },
  {
   "cell_type": "code",
   "execution_count": 11,
   "id": "adf2e9fa",
   "metadata": {},
   "outputs": [],
   "source": [
    "best_model = grid.best_estimator_"
   ]
  },
  {
   "cell_type": "code",
   "execution_count": 12,
   "id": "13b84ae2",
   "metadata": {},
   "outputs": [
    {
     "data": {
      "text/plain": [
       "0.8703310497833336"
      ]
     },
     "execution_count": 12,
     "metadata": {},
     "output_type": "execute_result"
    }
   ],
   "source": [
    "best_model.score(X_test, y_test)"
   ]
  },
  {
   "cell_type": "markdown",
   "id": "11f0723f",
   "metadata": {},
   "source": [
    "With approximately 10 percentage point increase the new model has an $R^2$ score of 87%\n",
    "\n",
    "This was mostly achieved through the use of polynomialfeatures as we saw the alphas made little-to-no difference near $\\alpha$ = 0\n",
    "\n",
    "We can use the model to create predictions for potential insurance customers, but first we export the model using joblib"
   ]
  },
  {
   "cell_type": "markdown",
   "id": "9ece0c94",
   "metadata": {},
   "source": [
    "### Joblib Machine Learning Model Export"
   ]
  },
  {
   "cell_type": "code",
   "execution_count": 13,
   "id": "e1565a93",
   "metadata": {},
   "outputs": [],
   "source": [
    "from joblib import dump, load"
   ]
  },
  {
   "cell_type": "code",
   "execution_count": 14,
   "id": "1763dcb2",
   "metadata": {},
   "outputs": [
    {
     "data": {
      "text/plain": [
       "['LinearRegressionTunedJoblib.model']"
      ]
     },
     "execution_count": 14,
     "metadata": {},
     "output_type": "execute_result"
    }
   ],
   "source": [
    "dump(best_model, 'LinearRegressionTunedJoblib.model')"
   ]
  },
  {
   "cell_type": "code",
   "execution_count": 15,
   "id": "b6478e1a",
   "metadata": {},
   "outputs": [],
   "source": [
    "load_model = load('LinearRegressionTunedJoblib.model')"
   ]
  },
  {
   "cell_type": "code",
   "execution_count": 16,
   "id": "89a23abc",
   "metadata": {},
   "outputs": [
    {
     "data": {
      "text/html": [
       "<div>\n",
       "<style scoped>\n",
       "    .dataframe tbody tr th:only-of-type {\n",
       "        vertical-align: middle;\n",
       "    }\n",
       "\n",
       "    .dataframe tbody tr th {\n",
       "        vertical-align: top;\n",
       "    }\n",
       "\n",
       "    .dataframe thead th {\n",
       "        text-align: right;\n",
       "    }\n",
       "</style>\n",
       "<table border=\"1\" class=\"dataframe\">\n",
       "  <thead>\n",
       "    <tr style=\"text-align: right;\">\n",
       "      <th></th>\n",
       "      <th>AgeLabel</th>\n",
       "      <th>BMI</th>\n",
       "      <th>ChildrenLabel</th>\n",
       "      <th>RegionLabel_northwest</th>\n",
       "      <th>RegionLabel_southeast</th>\n",
       "      <th>RegionLabel_southwest</th>\n",
       "      <th>SmokerLabel_True</th>\n",
       "    </tr>\n",
       "  </thead>\n",
       "  <tbody>\n",
       "    <tr>\n",
       "      <th>227</th>\n",
       "      <td>35</td>\n",
       "      <td>31.000</td>\n",
       "      <td>1</td>\n",
       "      <td>0</td>\n",
       "      <td>0</td>\n",
       "      <td>1</td>\n",
       "      <td>0</td>\n",
       "    </tr>\n",
       "    <tr>\n",
       "      <th>1235</th>\n",
       "      <td>55</td>\n",
       "      <td>37.715</td>\n",
       "      <td>3</td>\n",
       "      <td>1</td>\n",
       "      <td>0</td>\n",
       "      <td>0</td>\n",
       "      <td>0</td>\n",
       "    </tr>\n",
       "    <tr>\n",
       "      <th>985</th>\n",
       "      <td>53</td>\n",
       "      <td>36.100</td>\n",
       "      <td>1</td>\n",
       "      <td>0</td>\n",
       "      <td>0</td>\n",
       "      <td>1</td>\n",
       "      <td>0</td>\n",
       "    </tr>\n",
       "    <tr>\n",
       "      <th>326</th>\n",
       "      <td>18</td>\n",
       "      <td>31.350</td>\n",
       "      <td>0</td>\n",
       "      <td>0</td>\n",
       "      <td>1</td>\n",
       "      <td>0</td>\n",
       "      <td>0</td>\n",
       "    </tr>\n",
       "    <tr>\n",
       "      <th>352</th>\n",
       "      <td>36</td>\n",
       "      <td>26.885</td>\n",
       "      <td>0</td>\n",
       "      <td>1</td>\n",
       "      <td>0</td>\n",
       "      <td>0</td>\n",
       "      <td>0</td>\n",
       "    </tr>\n",
       "  </tbody>\n",
       "</table>\n",
       "</div>"
      ],
      "text/plain": [
       "      AgeLabel     BMI  ChildrenLabel  RegionLabel_northwest  \\\n",
       "227         35  31.000              1                      0   \n",
       "1235        55  37.715              3                      1   \n",
       "985         53  36.100              1                      0   \n",
       "326         18  31.350              0                      0   \n",
       "352         36  26.885              0                      1   \n",
       "\n",
       "      RegionLabel_southeast  RegionLabel_southwest  SmokerLabel_True  \n",
       "227                       0                      1                 0  \n",
       "1235                      0                      0                 0  \n",
       "985                       0                      1                 0  \n",
       "326                       1                      0                 0  \n",
       "352                       0                      0                 0  "
      ]
     },
     "execution_count": 16,
     "metadata": {},
     "output_type": "execute_result"
    }
   ],
   "source": [
    "X_test.head()"
   ]
  },
  {
   "cell_type": "code",
   "execution_count": 17,
   "id": "c00a72c6",
   "metadata": {},
   "outputs": [],
   "source": [
    "#Create a new entry to predict the costs\n",
    "\n",
    "prediction1 = {'AgeLabel': 22,\n",
    "              'BMI': 22.3,\n",
    "              'ChildrenLabel': 0,\n",
    "              'RegionLabel_northwest': 0,\n",
    "              'RegionLabel_southeast': 1,\n",
    "              'RegionLabel_southwest': 0,\n",
    "              'SmokerLabel_True': 0}\n"
   ]
  },
  {
   "cell_type": "code",
   "execution_count": 18,
   "id": "dca79df9",
   "metadata": {},
   "outputs": [
    {
     "data": {
      "text/html": [
       "<div>\n",
       "<style scoped>\n",
       "    .dataframe tbody tr th:only-of-type {\n",
       "        vertical-align: middle;\n",
       "    }\n",
       "\n",
       "    .dataframe tbody tr th {\n",
       "        vertical-align: top;\n",
       "    }\n",
       "\n",
       "    .dataframe thead th {\n",
       "        text-align: right;\n",
       "    }\n",
       "</style>\n",
       "<table border=\"1\" class=\"dataframe\">\n",
       "  <thead>\n",
       "    <tr style=\"text-align: right;\">\n",
       "      <th></th>\n",
       "      <th>AgeLabel</th>\n",
       "      <th>BMI</th>\n",
       "      <th>ChildrenLabel</th>\n",
       "      <th>RegionLabel_northwest</th>\n",
       "      <th>RegionLabel_southeast</th>\n",
       "      <th>RegionLabel_southwest</th>\n",
       "      <th>SmokerLabel_True</th>\n",
       "    </tr>\n",
       "  </thead>\n",
       "  <tbody>\n",
       "    <tr>\n",
       "      <th>1</th>\n",
       "      <td>22</td>\n",
       "      <td>22.3</td>\n",
       "      <td>0</td>\n",
       "      <td>0</td>\n",
       "      <td>1</td>\n",
       "      <td>0</td>\n",
       "      <td>0</td>\n",
       "    </tr>\n",
       "  </tbody>\n",
       "</table>\n",
       "</div>"
      ],
      "text/plain": [
       "   AgeLabel   BMI  ChildrenLabel  RegionLabel_northwest  \\\n",
       "1        22  22.3              0                      0   \n",
       "\n",
       "   RegionLabel_southeast  RegionLabel_southwest  SmokerLabel_True  \n",
       "1                      1                      0                 0  "
      ]
     },
     "execution_count": 18,
     "metadata": {},
     "output_type": "execute_result"
    }
   ],
   "source": [
    "test_prediction_df = pd.DataFrame(prediction1, index=[1])\n",
    "test_prediction_df"
   ]
  },
  {
   "cell_type": "code",
   "execution_count": 19,
   "id": "62114c0d",
   "metadata": {},
   "outputs": [
    {
     "data": {
      "text/plain": [
       "array([[3473.15487341]])"
      ]
     },
     "execution_count": 19,
     "metadata": {},
     "output_type": "execute_result"
    }
   ],
   "source": [
    "load_model.predict(test_prediction_df)"
   ]
  },
  {
   "cell_type": "markdown",
   "id": "731eda18",
   "metadata": {},
   "source": [
    "A 22 year-old living in the southeast with a BMI of 22.3 and no children will incur 3473.15 dollars of healthcare costs"
   ]
  },
  {
   "cell_type": "code",
   "execution_count": null,
   "id": "2786d29c",
   "metadata": {},
   "outputs": [],
   "source": []
  }
 ],
 "metadata": {
  "kernelspec": {
   "display_name": "Python 3 (ipykernel)",
   "language": "python",
   "name": "python3"
  },
  "language_info": {
   "codemirror_mode": {
    "name": "ipython",
    "version": 3
   },
   "file_extension": ".py",
   "mimetype": "text/x-python",
   "name": "python",
   "nbconvert_exporter": "python",
   "pygments_lexer": "ipython3",
   "version": "3.9.12"
  }
 },
 "nbformat": 4,
 "nbformat_minor": 5
}
