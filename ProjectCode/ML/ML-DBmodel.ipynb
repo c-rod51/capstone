{
 "cells": [
  {
   "cell_type": "markdown",
   "id": "c6c09d16",
   "metadata": {},
   "source": [
    "# Machine Learning Model for the InsuranceCharges Data\n",
    "\n",
    "Let's create a Regression Machine Learning Model to predict the costs incured by a new customer with attributes (age, sex, bmi, children, smoker, region)"
   ]
  },
  {
   "cell_type": "code",
   "execution_count": 1,
   "id": "6b2f47ed",
   "metadata": {},
   "outputs": [],
   "source": [
    "import numpy as np\n",
    "import pandas as pd\n",
    "import matplotlib.pyplot as plt\n",
    "from sklearn.linear_model import LinearRegression\n",
    "from sklearn.linear_model import Lasso, LassoCV\n",
    "from sklearn.model_selection import train_test_split\n",
    "from sklearn.model_selection import GridSearchCV\n",
    "#For connecting with SQL database\n",
    "import pymssql\n",
    "from config import database\n",
    "from config import username\n",
    "from config import password\n",
    "from config import server"
   ]
  },
  {
   "cell_type": "code",
   "execution_count": 2,
   "id": "8acc5101",
   "metadata": {},
   "outputs": [],
   "source": [
    "#Create connectiong to databse\n",
    "conn = pymssql.connect(server, username, password, database)\n",
    "cursor = conn.cursor()"
   ]
  },
  {
   "cell_type": "code",
   "execution_count": 3,
   "id": "3c7a2d6b",
   "metadata": {},
   "outputs": [],
   "source": [
    "#Run the query to gather the table\n",
    "table = 'dbo.InsuranceCharges'\n",
    "\n",
    "querycosts = '''Select I.ChargeID, I.ChargeValue, I.AgeID, A.AgeLabel, I.ChildrenID, C.ChildrenLabel, I.RegionID, \n",
    "R.RegionLabel, I.SexID, S.SexLabel, I.SmokerID, Sm.SmokerLabel, I.BMI from InsuranceCharges I\n",
    "inner join Age A on I.AgeID = A.AgeID\n",
    "inner join Children C on  I.ChildrenID = C.ChildrenID\n",
    "inner join Region R on  I.RegionID = R.RegionID\n",
    "inner join Sex S on  I.SexID = S.SexID\n",
    "inner join Smoker Sm on  I.SmokerID = Sm.SmokerID\n",
    "'''\n"
   ]
  },
  {
   "cell_type": "code",
   "execution_count": 4,
   "id": "930da989",
   "metadata": {},
   "outputs": [
    {
     "name": "stderr",
     "output_type": "stream",
     "text": [
      "C:\\Users\\Christian\\anaconda3\\lib\\site-packages\\pandas\\io\\sql.py:761: UserWarning: pandas only support SQLAlchemy connectable(engine/connection) ordatabase string URI or sqlite3 DBAPI2 connectionother DBAPI2 objects are not tested, please consider using SQLAlchemy\n",
      "  warnings.warn(\n"
     ]
    }
   ],
   "source": [
    "#Load the query to a pandas dataframe\n",
    "df_costs = pd.read_sql(querycosts, conn)"
   ]
  },
  {
   "cell_type": "code",
   "execution_count": 5,
   "id": "533d8f0e",
   "metadata": {},
   "outputs": [
    {
     "data": {
      "text/html": [
       "<div>\n",
       "<style scoped>\n",
       "    .dataframe tbody tr th:only-of-type {\n",
       "        vertical-align: middle;\n",
       "    }\n",
       "\n",
       "    .dataframe tbody tr th {\n",
       "        vertical-align: top;\n",
       "    }\n",
       "\n",
       "    .dataframe thead th {\n",
       "        text-align: right;\n",
       "    }\n",
       "</style>\n",
       "<table border=\"1\" class=\"dataframe\">\n",
       "  <thead>\n",
       "    <tr style=\"text-align: right;\">\n",
       "      <th></th>\n",
       "      <th>ChargeID</th>\n",
       "      <th>ChargeValue</th>\n",
       "      <th>AgeID</th>\n",
       "      <th>AgeLabel</th>\n",
       "      <th>ChildrenID</th>\n",
       "      <th>ChildrenLabel</th>\n",
       "      <th>RegionID</th>\n",
       "      <th>RegionLabel</th>\n",
       "      <th>SexID</th>\n",
       "      <th>SexLabel</th>\n",
       "      <th>SmokerID</th>\n",
       "      <th>SmokerLabel</th>\n",
       "      <th>BMI</th>\n",
       "    </tr>\n",
       "  </thead>\n",
       "  <tbody>\n",
       "    <tr>\n",
       "      <th>0</th>\n",
       "      <td>1</td>\n",
       "      <td>11082.577</td>\n",
       "      <td>38</td>\n",
       "      <td>55</td>\n",
       "      <td>1</td>\n",
       "      <td>0</td>\n",
       "      <td>1</td>\n",
       "      <td>northwest</td>\n",
       "      <td>1</td>\n",
       "      <td>female</td>\n",
       "      <td>1</td>\n",
       "      <td>False</td>\n",
       "      <td>26.980</td>\n",
       "    </tr>\n",
       "    <tr>\n",
       "      <th>1</th>\n",
       "      <td>2</td>\n",
       "      <td>14711.744</td>\n",
       "      <td>3</td>\n",
       "      <td>20</td>\n",
       "      <td>1</td>\n",
       "      <td>0</td>\n",
       "      <td>1</td>\n",
       "      <td>northwest</td>\n",
       "      <td>1</td>\n",
       "      <td>female</td>\n",
       "      <td>2</td>\n",
       "      <td>True</td>\n",
       "      <td>22.420</td>\n",
       "    </tr>\n",
       "    <tr>\n",
       "      <th>2</th>\n",
       "      <td>3</td>\n",
       "      <td>1743.214</td>\n",
       "      <td>2</td>\n",
       "      <td>19</td>\n",
       "      <td>1</td>\n",
       "      <td>0</td>\n",
       "      <td>4</td>\n",
       "      <td>southwest</td>\n",
       "      <td>1</td>\n",
       "      <td>female</td>\n",
       "      <td>1</td>\n",
       "      <td>False</td>\n",
       "      <td>28.900</td>\n",
       "    </tr>\n",
       "    <tr>\n",
       "      <th>3</th>\n",
       "      <td>4</td>\n",
       "      <td>8516.829</td>\n",
       "      <td>28</td>\n",
       "      <td>45</td>\n",
       "      <td>3</td>\n",
       "      <td>2</td>\n",
       "      <td>2</td>\n",
       "      <td>southeast</td>\n",
       "      <td>1</td>\n",
       "      <td>female</td>\n",
       "      <td>1</td>\n",
       "      <td>False</td>\n",
       "      <td>28.600</td>\n",
       "    </tr>\n",
       "    <tr>\n",
       "      <th>4</th>\n",
       "      <td>5</td>\n",
       "      <td>12268.632</td>\n",
       "      <td>38</td>\n",
       "      <td>55</td>\n",
       "      <td>3</td>\n",
       "      <td>2</td>\n",
       "      <td>1</td>\n",
       "      <td>northwest</td>\n",
       "      <td>1</td>\n",
       "      <td>female</td>\n",
       "      <td>1</td>\n",
       "      <td>False</td>\n",
       "      <td>32.775</td>\n",
       "    </tr>\n",
       "    <tr>\n",
       "      <th>...</th>\n",
       "      <td>...</td>\n",
       "      <td>...</td>\n",
       "      <td>...</td>\n",
       "      <td>...</td>\n",
       "      <td>...</td>\n",
       "      <td>...</td>\n",
       "      <td>...</td>\n",
       "      <td>...</td>\n",
       "      <td>...</td>\n",
       "      <td>...</td>\n",
       "      <td>...</td>\n",
       "      <td>...</td>\n",
       "      <td>...</td>\n",
       "    </tr>\n",
       "    <tr>\n",
       "      <th>1333</th>\n",
       "      <td>1334</td>\n",
       "      <td>37484.449</td>\n",
       "      <td>5</td>\n",
       "      <td>22</td>\n",
       "      <td>3</td>\n",
       "      <td>2</td>\n",
       "      <td>2</td>\n",
       "      <td>southeast</td>\n",
       "      <td>2</td>\n",
       "      <td>male</td>\n",
       "      <td>2</td>\n",
       "      <td>True</td>\n",
       "      <td>37.070</td>\n",
       "    </tr>\n",
       "    <tr>\n",
       "      <th>1334</th>\n",
       "      <td>1335</td>\n",
       "      <td>4462.722</td>\n",
       "      <td>15</td>\n",
       "      <td>32</td>\n",
       "      <td>2</td>\n",
       "      <td>1</td>\n",
       "      <td>1</td>\n",
       "      <td>northwest</td>\n",
       "      <td>2</td>\n",
       "      <td>male</td>\n",
       "      <td>1</td>\n",
       "      <td>False</td>\n",
       "      <td>33.820</td>\n",
       "    </tr>\n",
       "    <tr>\n",
       "      <th>1335</th>\n",
       "      <td>1336</td>\n",
       "      <td>48970.248</td>\n",
       "      <td>42</td>\n",
       "      <td>59</td>\n",
       "      <td>2</td>\n",
       "      <td>1</td>\n",
       "      <td>2</td>\n",
       "      <td>southeast</td>\n",
       "      <td>2</td>\n",
       "      <td>male</td>\n",
       "      <td>2</td>\n",
       "      <td>True</td>\n",
       "      <td>41.140</td>\n",
       "    </tr>\n",
       "    <tr>\n",
       "      <th>1336</th>\n",
       "      <td>1337</td>\n",
       "      <td>19673.336</td>\n",
       "      <td>11</td>\n",
       "      <td>28</td>\n",
       "      <td>1</td>\n",
       "      <td>0</td>\n",
       "      <td>1</td>\n",
       "      <td>northwest</td>\n",
       "      <td>2</td>\n",
       "      <td>male</td>\n",
       "      <td>1</td>\n",
       "      <td>False</td>\n",
       "      <td>33.820</td>\n",
       "    </tr>\n",
       "    <tr>\n",
       "      <th>1337</th>\n",
       "      <td>1338</td>\n",
       "      <td>3292.530</td>\n",
       "      <td>9</td>\n",
       "      <td>26</td>\n",
       "      <td>2</td>\n",
       "      <td>1</td>\n",
       "      <td>1</td>\n",
       "      <td>northwest</td>\n",
       "      <td>2</td>\n",
       "      <td>male</td>\n",
       "      <td>1</td>\n",
       "      <td>False</td>\n",
       "      <td>33.915</td>\n",
       "    </tr>\n",
       "  </tbody>\n",
       "</table>\n",
       "<p>1338 rows × 13 columns</p>\n",
       "</div>"
      ],
      "text/plain": [
       "      ChargeID  ChargeValue  AgeID AgeLabel  ChildrenID ChildrenLabel  \\\n",
       "0            1    11082.577     38       55           1             0   \n",
       "1            2    14711.744      3       20           1             0   \n",
       "2            3     1743.214      2       19           1             0   \n",
       "3            4     8516.829     28       45           3             2   \n",
       "4            5    12268.632     38       55           3             2   \n",
       "...        ...          ...    ...      ...         ...           ...   \n",
       "1333      1334    37484.449      5       22           3             2   \n",
       "1334      1335     4462.722     15       32           2             1   \n",
       "1335      1336    48970.248     42       59           2             1   \n",
       "1336      1337    19673.336     11       28           1             0   \n",
       "1337      1338     3292.530      9       26           2             1   \n",
       "\n",
       "      RegionID RegionLabel  SexID SexLabel  SmokerID  SmokerLabel     BMI  \n",
       "0            1   northwest      1   female         1        False  26.980  \n",
       "1            1   northwest      1   female         2         True  22.420  \n",
       "2            4   southwest      1   female         1        False  28.900  \n",
       "3            2   southeast      1   female         1        False  28.600  \n",
       "4            1   northwest      1   female         1        False  32.775  \n",
       "...        ...         ...    ...      ...       ...          ...     ...  \n",
       "1333         2   southeast      2     male         2         True  37.070  \n",
       "1334         1   northwest      2     male         1        False  33.820  \n",
       "1335         2   southeast      2     male         2         True  41.140  \n",
       "1336         1   northwest      2     male         1        False  33.820  \n",
       "1337         1   northwest      2     male         1        False  33.915  \n",
       "\n",
       "[1338 rows x 13 columns]"
      ]
     },
     "execution_count": 5,
     "metadata": {},
     "output_type": "execute_result"
    }
   ],
   "source": [
    "df_costs"
   ]
  },
  {
   "cell_type": "code",
   "execution_count": 6,
   "id": "ce4b4fc3",
   "metadata": {},
   "outputs": [
    {
     "data": {
      "text/html": [
       "<div>\n",
       "<style scoped>\n",
       "    .dataframe tbody tr th:only-of-type {\n",
       "        vertical-align: middle;\n",
       "    }\n",
       "\n",
       "    .dataframe tbody tr th {\n",
       "        vertical-align: top;\n",
       "    }\n",
       "\n",
       "    .dataframe thead th {\n",
       "        text-align: right;\n",
       "    }\n",
       "</style>\n",
       "<table border=\"1\" class=\"dataframe\">\n",
       "  <thead>\n",
       "    <tr style=\"text-align: right;\">\n",
       "      <th></th>\n",
       "      <th>AgeLabel</th>\n",
       "      <th>SexLabel</th>\n",
       "      <th>BMI</th>\n",
       "      <th>ChildrenLabel</th>\n",
       "      <th>RegionLabel</th>\n",
       "      <th>ChargeValue</th>\n",
       "      <th>SmokerLabel</th>\n",
       "    </tr>\n",
       "  </thead>\n",
       "  <tbody>\n",
       "    <tr>\n",
       "      <th>0</th>\n",
       "      <td>55</td>\n",
       "      <td>female</td>\n",
       "      <td>26.980</td>\n",
       "      <td>0</td>\n",
       "      <td>northwest</td>\n",
       "      <td>11082.577</td>\n",
       "      <td>False</td>\n",
       "    </tr>\n",
       "    <tr>\n",
       "      <th>1</th>\n",
       "      <td>20</td>\n",
       "      <td>female</td>\n",
       "      <td>22.420</td>\n",
       "      <td>0</td>\n",
       "      <td>northwest</td>\n",
       "      <td>14711.744</td>\n",
       "      <td>True</td>\n",
       "    </tr>\n",
       "    <tr>\n",
       "      <th>2</th>\n",
       "      <td>19</td>\n",
       "      <td>female</td>\n",
       "      <td>28.900</td>\n",
       "      <td>0</td>\n",
       "      <td>southwest</td>\n",
       "      <td>1743.214</td>\n",
       "      <td>False</td>\n",
       "    </tr>\n",
       "    <tr>\n",
       "      <th>3</th>\n",
       "      <td>45</td>\n",
       "      <td>female</td>\n",
       "      <td>28.600</td>\n",
       "      <td>2</td>\n",
       "      <td>southeast</td>\n",
       "      <td>8516.829</td>\n",
       "      <td>False</td>\n",
       "    </tr>\n",
       "    <tr>\n",
       "      <th>4</th>\n",
       "      <td>55</td>\n",
       "      <td>female</td>\n",
       "      <td>32.775</td>\n",
       "      <td>2</td>\n",
       "      <td>northwest</td>\n",
       "      <td>12268.632</td>\n",
       "      <td>False</td>\n",
       "    </tr>\n",
       "    <tr>\n",
       "      <th>...</th>\n",
       "      <td>...</td>\n",
       "      <td>...</td>\n",
       "      <td>...</td>\n",
       "      <td>...</td>\n",
       "      <td>...</td>\n",
       "      <td>...</td>\n",
       "      <td>...</td>\n",
       "    </tr>\n",
       "    <tr>\n",
       "      <th>1333</th>\n",
       "      <td>22</td>\n",
       "      <td>male</td>\n",
       "      <td>37.070</td>\n",
       "      <td>2</td>\n",
       "      <td>southeast</td>\n",
       "      <td>37484.449</td>\n",
       "      <td>True</td>\n",
       "    </tr>\n",
       "    <tr>\n",
       "      <th>1334</th>\n",
       "      <td>32</td>\n",
       "      <td>male</td>\n",
       "      <td>33.820</td>\n",
       "      <td>1</td>\n",
       "      <td>northwest</td>\n",
       "      <td>4462.722</td>\n",
       "      <td>False</td>\n",
       "    </tr>\n",
       "    <tr>\n",
       "      <th>1335</th>\n",
       "      <td>59</td>\n",
       "      <td>male</td>\n",
       "      <td>41.140</td>\n",
       "      <td>1</td>\n",
       "      <td>southeast</td>\n",
       "      <td>48970.248</td>\n",
       "      <td>True</td>\n",
       "    </tr>\n",
       "    <tr>\n",
       "      <th>1336</th>\n",
       "      <td>28</td>\n",
       "      <td>male</td>\n",
       "      <td>33.820</td>\n",
       "      <td>0</td>\n",
       "      <td>northwest</td>\n",
       "      <td>19673.336</td>\n",
       "      <td>False</td>\n",
       "    </tr>\n",
       "    <tr>\n",
       "      <th>1337</th>\n",
       "      <td>26</td>\n",
       "      <td>male</td>\n",
       "      <td>33.915</td>\n",
       "      <td>1</td>\n",
       "      <td>northwest</td>\n",
       "      <td>3292.530</td>\n",
       "      <td>False</td>\n",
       "    </tr>\n",
       "  </tbody>\n",
       "</table>\n",
       "<p>1338 rows × 7 columns</p>\n",
       "</div>"
      ],
      "text/plain": [
       "     AgeLabel SexLabel     BMI ChildrenLabel RegionLabel  ChargeValue  \\\n",
       "0          55   female  26.980             0   northwest    11082.577   \n",
       "1          20   female  22.420             0   northwest    14711.744   \n",
       "2          19   female  28.900             0   southwest     1743.214   \n",
       "3          45   female  28.600             2   southeast     8516.829   \n",
       "4          55   female  32.775             2   northwest    12268.632   \n",
       "...       ...      ...     ...           ...         ...          ...   \n",
       "1333       22     male  37.070             2   southeast    37484.449   \n",
       "1334       32     male  33.820             1   northwest     4462.722   \n",
       "1335       59     male  41.140             1   southeast    48970.248   \n",
       "1336       28     male  33.820             0   northwest    19673.336   \n",
       "1337       26     male  33.915             1   northwest     3292.530   \n",
       "\n",
       "      SmokerLabel  \n",
       "0           False  \n",
       "1            True  \n",
       "2           False  \n",
       "3           False  \n",
       "4           False  \n",
       "...           ...  \n",
       "1333         True  \n",
       "1334        False  \n",
       "1335         True  \n",
       "1336        False  \n",
       "1337        False  \n",
       "\n",
       "[1338 rows x 7 columns]"
      ]
     },
     "execution_count": 6,
     "metadata": {},
     "output_type": "execute_result"
    }
   ],
   "source": [
    "df = df_costs[['AgeLabel', 'SexLabel', 'BMI', 'ChildrenLabel', 'RegionLabel', 'ChargeValue', 'SmokerLabel']]\n",
    "df"
   ]
  },
  {
   "cell_type": "code",
   "execution_count": 7,
   "id": "760e6fb5",
   "metadata": {},
   "outputs": [],
   "source": [
    "#Make sure all columns are numerical in order to feed them into the ML model\n",
    "df = df.astype({\"AgeLabel\": int, \"ChildrenLabel\": int})"
   ]
  },
  {
   "cell_type": "code",
   "execution_count": 8,
   "id": "ea8da059",
   "metadata": {},
   "outputs": [
    {
     "name": "stdout",
     "output_type": "stream",
     "text": [
      "<class 'pandas.core.frame.DataFrame'>\n",
      "RangeIndex: 1338 entries, 0 to 1337\n",
      "Data columns (total 7 columns):\n",
      " #   Column         Non-Null Count  Dtype  \n",
      "---  ------         --------------  -----  \n",
      " 0   AgeLabel       1338 non-null   int32  \n",
      " 1   SexLabel       1338 non-null   object \n",
      " 2   BMI            1338 non-null   float64\n",
      " 3   ChildrenLabel  1338 non-null   int32  \n",
      " 4   RegionLabel    1338 non-null   object \n",
      " 5   ChargeValue    1338 non-null   float64\n",
      " 6   SmokerLabel    1338 non-null   bool   \n",
      "dtypes: bool(1), float64(2), int32(2), object(2)\n",
      "memory usage: 53.7+ KB\n"
     ]
    }
   ],
   "source": [
    "df.info()"
   ]
  },
  {
   "cell_type": "code",
   "execution_count": 9,
   "id": "750da10f",
   "metadata": {},
   "outputs": [],
   "source": [
    "#df.to_csv('database_insurance.csv', header=True, index=False)"
   ]
  },
  {
   "cell_type": "markdown",
   "id": "30825acb",
   "metadata": {},
   "source": [
    "Make dummy variables for region and sex"
   ]
  },
  {
   "cell_type": "code",
   "execution_count": 10,
   "id": "cd5aa664",
   "metadata": {},
   "outputs": [],
   "source": [
    "df_dummies = pd.get_dummies(df, columns = ['SexLabel', 'RegionLabel', 'SmokerLabel'], drop_first = True)"
   ]
  },
  {
   "cell_type": "code",
   "execution_count": 11,
   "id": "a9ea0e45",
   "metadata": {},
   "outputs": [
    {
     "data": {
      "text/html": [
       "<div>\n",
       "<style scoped>\n",
       "    .dataframe tbody tr th:only-of-type {\n",
       "        vertical-align: middle;\n",
       "    }\n",
       "\n",
       "    .dataframe tbody tr th {\n",
       "        vertical-align: top;\n",
       "    }\n",
       "\n",
       "    .dataframe thead th {\n",
       "        text-align: right;\n",
       "    }\n",
       "</style>\n",
       "<table border=\"1\" class=\"dataframe\">\n",
       "  <thead>\n",
       "    <tr style=\"text-align: right;\">\n",
       "      <th></th>\n",
       "      <th>AgeLabel</th>\n",
       "      <th>BMI</th>\n",
       "      <th>ChildrenLabel</th>\n",
       "      <th>ChargeValue</th>\n",
       "      <th>SexLabel_male</th>\n",
       "      <th>RegionLabel_northwest</th>\n",
       "      <th>RegionLabel_southeast</th>\n",
       "      <th>RegionLabel_southwest</th>\n",
       "      <th>SmokerLabel_True</th>\n",
       "    </tr>\n",
       "  </thead>\n",
       "  <tbody>\n",
       "    <tr>\n",
       "      <th>count</th>\n",
       "      <td>1338.000000</td>\n",
       "      <td>1338.000000</td>\n",
       "      <td>1338.000000</td>\n",
       "      <td>1338.000000</td>\n",
       "      <td>1338.000000</td>\n",
       "      <td>1338.000000</td>\n",
       "      <td>1338.000000</td>\n",
       "      <td>1338.000000</td>\n",
       "      <td>1338.000000</td>\n",
       "    </tr>\n",
       "    <tr>\n",
       "      <th>mean</th>\n",
       "      <td>39.207025</td>\n",
       "      <td>30.663397</td>\n",
       "      <td>1.094918</td>\n",
       "      <td>13270.422294</td>\n",
       "      <td>0.505232</td>\n",
       "      <td>0.242900</td>\n",
       "      <td>0.272048</td>\n",
       "      <td>0.242900</td>\n",
       "      <td>0.204783</td>\n",
       "    </tr>\n",
       "    <tr>\n",
       "      <th>std</th>\n",
       "      <td>14.049960</td>\n",
       "      <td>6.098187</td>\n",
       "      <td>1.205493</td>\n",
       "      <td>12110.011230</td>\n",
       "      <td>0.500160</td>\n",
       "      <td>0.428995</td>\n",
       "      <td>0.445181</td>\n",
       "      <td>0.428995</td>\n",
       "      <td>0.403694</td>\n",
       "    </tr>\n",
       "    <tr>\n",
       "      <th>min</th>\n",
       "      <td>18.000000</td>\n",
       "      <td>15.960000</td>\n",
       "      <td>0.000000</td>\n",
       "      <td>1121.874000</td>\n",
       "      <td>0.000000</td>\n",
       "      <td>0.000000</td>\n",
       "      <td>0.000000</td>\n",
       "      <td>0.000000</td>\n",
       "      <td>0.000000</td>\n",
       "    </tr>\n",
       "    <tr>\n",
       "      <th>25%</th>\n",
       "      <td>27.000000</td>\n",
       "      <td>26.296250</td>\n",
       "      <td>0.000000</td>\n",
       "      <td>4740.287000</td>\n",
       "      <td>0.000000</td>\n",
       "      <td>0.000000</td>\n",
       "      <td>0.000000</td>\n",
       "      <td>0.000000</td>\n",
       "      <td>0.000000</td>\n",
       "    </tr>\n",
       "    <tr>\n",
       "      <th>50%</th>\n",
       "      <td>39.000000</td>\n",
       "      <td>30.400000</td>\n",
       "      <td>1.000000</td>\n",
       "      <td>9382.033000</td>\n",
       "      <td>1.000000</td>\n",
       "      <td>0.000000</td>\n",
       "      <td>0.000000</td>\n",
       "      <td>0.000000</td>\n",
       "      <td>0.000000</td>\n",
       "    </tr>\n",
       "    <tr>\n",
       "      <th>75%</th>\n",
       "      <td>51.000000</td>\n",
       "      <td>34.693750</td>\n",
       "      <td>2.000000</td>\n",
       "      <td>16639.912250</td>\n",
       "      <td>1.000000</td>\n",
       "      <td>0.000000</td>\n",
       "      <td>1.000000</td>\n",
       "      <td>0.000000</td>\n",
       "      <td>0.000000</td>\n",
       "    </tr>\n",
       "    <tr>\n",
       "      <th>max</th>\n",
       "      <td>64.000000</td>\n",
       "      <td>53.130000</td>\n",
       "      <td>5.000000</td>\n",
       "      <td>63770.428000</td>\n",
       "      <td>1.000000</td>\n",
       "      <td>1.000000</td>\n",
       "      <td>1.000000</td>\n",
       "      <td>1.000000</td>\n",
       "      <td>1.000000</td>\n",
       "    </tr>\n",
       "  </tbody>\n",
       "</table>\n",
       "</div>"
      ],
      "text/plain": [
       "          AgeLabel          BMI  ChildrenLabel   ChargeValue  SexLabel_male  \\\n",
       "count  1338.000000  1338.000000    1338.000000   1338.000000    1338.000000   \n",
       "mean     39.207025    30.663397       1.094918  13270.422294       0.505232   \n",
       "std      14.049960     6.098187       1.205493  12110.011230       0.500160   \n",
       "min      18.000000    15.960000       0.000000   1121.874000       0.000000   \n",
       "25%      27.000000    26.296250       0.000000   4740.287000       0.000000   \n",
       "50%      39.000000    30.400000       1.000000   9382.033000       1.000000   \n",
       "75%      51.000000    34.693750       2.000000  16639.912250       1.000000   \n",
       "max      64.000000    53.130000       5.000000  63770.428000       1.000000   \n",
       "\n",
       "       RegionLabel_northwest  RegionLabel_southeast  RegionLabel_southwest  \\\n",
       "count            1338.000000            1338.000000            1338.000000   \n",
       "mean                0.242900               0.272048               0.242900   \n",
       "std                 0.428995               0.445181               0.428995   \n",
       "min                 0.000000               0.000000               0.000000   \n",
       "25%                 0.000000               0.000000               0.000000   \n",
       "50%                 0.000000               0.000000               0.000000   \n",
       "75%                 0.000000               1.000000               0.000000   \n",
       "max                 1.000000               1.000000               1.000000   \n",
       "\n",
       "       SmokerLabel_True  \n",
       "count       1338.000000  \n",
       "mean           0.204783  \n",
       "std            0.403694  \n",
       "min            0.000000  \n",
       "25%            0.000000  \n",
       "50%            0.000000  \n",
       "75%            0.000000  \n",
       "max            1.000000  "
      ]
     },
     "execution_count": 11,
     "metadata": {},
     "output_type": "execute_result"
    }
   ],
   "source": [
    "df_dummies.describe()"
   ]
  },
  {
   "cell_type": "code",
   "execution_count": 12,
   "id": "7654a2ec",
   "metadata": {},
   "outputs": [],
   "source": [
    "X = df_dummies.drop(columns = 'ChargeValue').copy()\n",
    "y = df_dummies[['ChargeValue']].copy()"
   ]
  },
  {
   "cell_type": "code",
   "execution_count": 13,
   "id": "5d3ffea1",
   "metadata": {},
   "outputs": [],
   "source": [
    "X_train, X_test, y_train, y_test = train_test_split(X, y, test_size=0.20, random_state = 9)"
   ]
  },
  {
   "cell_type": "code",
   "execution_count": 14,
   "id": "17bf5d61",
   "metadata": {},
   "outputs": [
    {
     "data": {
      "text/plain": [
       "LinearRegression()"
      ]
     },
     "execution_count": 14,
     "metadata": {},
     "output_type": "execute_result"
    }
   ],
   "source": [
    "model = LinearRegression()\n",
    "model.fit(X_train, y_train)"
   ]
  },
  {
   "cell_type": "markdown",
   "id": "66273e18",
   "metadata": {},
   "source": [
    "Let's assess how our model is doing compared to the test set"
   ]
  },
  {
   "cell_type": "code",
   "execution_count": 15,
   "id": "46b61df6",
   "metadata": {},
   "outputs": [],
   "source": [
    "charge_predictions = model.predict(X_test)"
   ]
  },
  {
   "cell_type": "code",
   "execution_count": 16,
   "id": "b6898ee3",
   "metadata": {},
   "outputs": [
    {
     "data": {
      "image/png": "[encoded data removed]",
      "text/plain": [
       "<Figure size 432x288 with 1 Axes>"
      ]
     },
     "metadata": {
      "needs_background": "light"
     },
     "output_type": "display_data"
    }
   ],
   "source": [
    "# Plot outputs\n",
    "plt.scatter(y_test, charge_predictions, color=\"blue\", alpha=0.1)\n",
    "\n",
    "#plt.plot(diabetes_X_test, diabetes_y_pred, color=\"blue\", linewidth=3)\n",
    "plt.xlabel('actual charges')\n",
    "plt.ylabel('predicted charges')\n",
    "plt.title('Predicted vs Actual Charges')\n",
    "\n",
    "plt.show()"
   ]
  },
  {
   "cell_type": "code",
   "execution_count": 17,
   "id": "7a31ace4",
   "metadata": {},
   "outputs": [
    {
     "data": {
      "image/png": "[encoded data removed]",
      "text/plain": [
       "<Figure size 432x288 with 1 Axes>"
      ]
     },
     "metadata": {
      "needs_background": "light"
     },
     "output_type": "display_data"
    }
   ],
   "source": [
    "# Plot residuals\n",
    "residuals = y_test - charge_predictions\n",
    "plt.scatter(charge_predictions, residuals, color=\"blue\", alpha=0.1)\n",
    "plt.xlabel('Predicted Charges')\n",
    "plt.ylabel('residuals')\n",
    "plt.title('Residuals vs Predicted Charges')\n",
    "\n",
    "plt.show()"
   ]
  },
  {
   "cell_type": "code",
   "execution_count": 18,
   "id": "7454edff",
   "metadata": {},
   "outputs": [
    {
     "data": {
      "text/plain": [
       "0.7471902327025666"
      ]
     },
     "execution_count": 18,
     "metadata": {},
     "output_type": "execute_result"
    }
   ],
   "source": [
    "model.score(X_test, y_test)"
   ]
  },
  {
   "cell_type": "markdown",
   "id": "66878f09",
   "metadata": {},
   "source": [
    "Let's check how our model does when we eliminate the `SexLabel` column"
   ]
  },
  {
   "cell_type": "code",
   "execution_count": 19,
   "id": "1665f04d",
   "metadata": {},
   "outputs": [
    {
     "data": {
      "text/html": [
       "<div>\n",
       "<style scoped>\n",
       "    .dataframe tbody tr th:only-of-type {\n",
       "        vertical-align: middle;\n",
       "    }\n",
       "\n",
       "    .dataframe tbody tr th {\n",
       "        vertical-align: top;\n",
       "    }\n",
       "\n",
       "    .dataframe thead th {\n",
       "        text-align: right;\n",
       "    }\n",
       "</style>\n",
       "<table border=\"1\" class=\"dataframe\">\n",
       "  <thead>\n",
       "    <tr style=\"text-align: right;\">\n",
       "      <th></th>\n",
       "      <th>AgeLabel</th>\n",
       "      <th>BMI</th>\n",
       "      <th>ChildrenLabel</th>\n",
       "      <th>ChargeValue</th>\n",
       "      <th>SexLabel_male</th>\n",
       "      <th>RegionLabel_northwest</th>\n",
       "      <th>RegionLabel_southeast</th>\n",
       "      <th>RegionLabel_southwest</th>\n",
       "      <th>SmokerLabel_True</th>\n",
       "    </tr>\n",
       "  </thead>\n",
       "  <tbody>\n",
       "    <tr>\n",
       "      <th>0</th>\n",
       "      <td>55</td>\n",
       "      <td>26.980</td>\n",
       "      <td>0</td>\n",
       "      <td>11082.577</td>\n",
       "      <td>0</td>\n",
       "      <td>1</td>\n",
       "      <td>0</td>\n",
       "      <td>0</td>\n",
       "      <td>0</td>\n",
       "    </tr>\n",
       "    <tr>\n",
       "      <th>1</th>\n",
       "      <td>20</td>\n",
       "      <td>22.420</td>\n",
       "      <td>0</td>\n",
       "      <td>14711.744</td>\n",
       "      <td>0</td>\n",
       "      <td>1</td>\n",
       "      <td>0</td>\n",
       "      <td>0</td>\n",
       "      <td>1</td>\n",
       "    </tr>\n",
       "    <tr>\n",
       "      <th>2</th>\n",
       "      <td>19</td>\n",
       "      <td>28.900</td>\n",
       "      <td>0</td>\n",
       "      <td>1743.214</td>\n",
       "      <td>0</td>\n",
       "      <td>0</td>\n",
       "      <td>0</td>\n",
       "      <td>1</td>\n",
       "      <td>0</td>\n",
       "    </tr>\n",
       "    <tr>\n",
       "      <th>3</th>\n",
       "      <td>45</td>\n",
       "      <td>28.600</td>\n",
       "      <td>2</td>\n",
       "      <td>8516.829</td>\n",
       "      <td>0</td>\n",
       "      <td>0</td>\n",
       "      <td>1</td>\n",
       "      <td>0</td>\n",
       "      <td>0</td>\n",
       "    </tr>\n",
       "    <tr>\n",
       "      <th>4</th>\n",
       "      <td>55</td>\n",
       "      <td>32.775</td>\n",
       "      <td>2</td>\n",
       "      <td>12268.632</td>\n",
       "      <td>0</td>\n",
       "      <td>1</td>\n",
       "      <td>0</td>\n",
       "      <td>0</td>\n",
       "      <td>0</td>\n",
       "    </tr>\n",
       "    <tr>\n",
       "      <th>...</th>\n",
       "      <td>...</td>\n",
       "      <td>...</td>\n",
       "      <td>...</td>\n",
       "      <td>...</td>\n",
       "      <td>...</td>\n",
       "      <td>...</td>\n",
       "      <td>...</td>\n",
       "      <td>...</td>\n",
       "      <td>...</td>\n",
       "    </tr>\n",
       "    <tr>\n",
       "      <th>1333</th>\n",
       "      <td>22</td>\n",
       "      <td>37.070</td>\n",
       "      <td>2</td>\n",
       "      <td>37484.449</td>\n",
       "      <td>1</td>\n",
       "      <td>0</td>\n",
       "      <td>1</td>\n",
       "      <td>0</td>\n",
       "      <td>1</td>\n",
       "    </tr>\n",
       "    <tr>\n",
       "      <th>1334</th>\n",
       "      <td>32</td>\n",
       "      <td>33.820</td>\n",
       "      <td>1</td>\n",
       "      <td>4462.722</td>\n",
       "      <td>1</td>\n",
       "      <td>1</td>\n",
       "      <td>0</td>\n",
       "      <td>0</td>\n",
       "      <td>0</td>\n",
       "    </tr>\n",
       "    <tr>\n",
       "      <th>1335</th>\n",
       "      <td>59</td>\n",
       "      <td>41.140</td>\n",
       "      <td>1</td>\n",
       "      <td>48970.248</td>\n",
       "      <td>1</td>\n",
       "      <td>0</td>\n",
       "      <td>1</td>\n",
       "      <td>0</td>\n",
       "      <td>1</td>\n",
       "    </tr>\n",
       "    <tr>\n",
       "      <th>1336</th>\n",
       "      <td>28</td>\n",
       "      <td>33.820</td>\n",
       "      <td>0</td>\n",
       "      <td>19673.336</td>\n",
       "      <td>1</td>\n",
       "      <td>1</td>\n",
       "      <td>0</td>\n",
       "      <td>0</td>\n",
       "      <td>0</td>\n",
       "    </tr>\n",
       "    <tr>\n",
       "      <th>1337</th>\n",
       "      <td>26</td>\n",
       "      <td>33.915</td>\n",
       "      <td>1</td>\n",
       "      <td>3292.530</td>\n",
       "      <td>1</td>\n",
       "      <td>1</td>\n",
       "      <td>0</td>\n",
       "      <td>0</td>\n",
       "      <td>0</td>\n",
       "    </tr>\n",
       "  </tbody>\n",
       "</table>\n",
       "<p>1338 rows × 9 columns</p>\n",
       "</div>"
      ],
      "text/plain": [
       "      AgeLabel     BMI  ChildrenLabel  ChargeValue  SexLabel_male  \\\n",
       "0           55  26.980              0    11082.577              0   \n",
       "1           20  22.420              0    14711.744              0   \n",
       "2           19  28.900              0     1743.214              0   \n",
       "3           45  28.600              2     8516.829              0   \n",
       "4           55  32.775              2    12268.632              0   \n",
       "...        ...     ...            ...          ...            ...   \n",
       "1333        22  37.070              2    37484.449              1   \n",
       "1334        32  33.820              1     4462.722              1   \n",
       "1335        59  41.140              1    48970.248              1   \n",
       "1336        28  33.820              0    19673.336              1   \n",
       "1337        26  33.915              1     3292.530              1   \n",
       "\n",
       "      RegionLabel_northwest  RegionLabel_southeast  RegionLabel_southwest  \\\n",
       "0                         1                      0                      0   \n",
       "1                         1                      0                      0   \n",
       "2                         0                      0                      1   \n",
       "3                         0                      1                      0   \n",
       "4                         1                      0                      0   \n",
       "...                     ...                    ...                    ...   \n",
       "1333                      0                      1                      0   \n",
       "1334                      1                      0                      0   \n",
       "1335                      0                      1                      0   \n",
       "1336                      1                      0                      0   \n",
       "1337                      1                      0                      0   \n",
       "\n",
       "      SmokerLabel_True  \n",
       "0                    0  \n",
       "1                    1  \n",
       "2                    0  \n",
       "3                    0  \n",
       "4                    0  \n",
       "...                ...  \n",
       "1333                 1  \n",
       "1334                 0  \n",
       "1335                 1  \n",
       "1336                 0  \n",
       "1337                 0  \n",
       "\n",
       "[1338 rows x 9 columns]"
      ]
     },
     "execution_count": 19,
     "metadata": {},
     "output_type": "execute_result"
    }
   ],
   "source": [
    "df_dummies"
   ]
  },
  {
   "cell_type": "code",
   "execution_count": 20,
   "id": "61a3b638",
   "metadata": {},
   "outputs": [],
   "source": [
    "no_sex_df = df_dummies.copy()"
   ]
  },
  {
   "cell_type": "code",
   "execution_count": 21,
   "id": "dfcc2cec",
   "metadata": {},
   "outputs": [],
   "source": [
    "no_sex_df = no_sex_df.drop(columns = 'SexLabel_male')"
   ]
  },
  {
   "cell_type": "code",
   "execution_count": 22,
   "id": "22158afb",
   "metadata": {},
   "outputs": [
    {
     "data": {
      "text/html": [
       "<div>\n",
       "<style scoped>\n",
       "    .dataframe tbody tr th:only-of-type {\n",
       "        vertical-align: middle;\n",
       "    }\n",
       "\n",
       "    .dataframe tbody tr th {\n",
       "        vertical-align: top;\n",
       "    }\n",
       "\n",
       "    .dataframe thead th {\n",
       "        text-align: right;\n",
       "    }\n",
       "</style>\n",
       "<table border=\"1\" class=\"dataframe\">\n",
       "  <thead>\n",
       "    <tr style=\"text-align: right;\">\n",
       "      <th></th>\n",
       "      <th>AgeLabel</th>\n",
       "      <th>BMI</th>\n",
       "      <th>ChildrenLabel</th>\n",
       "      <th>ChargeValue</th>\n",
       "      <th>RegionLabel_northwest</th>\n",
       "      <th>RegionLabel_southeast</th>\n",
       "      <th>RegionLabel_southwest</th>\n",
       "      <th>SmokerLabel_True</th>\n",
       "    </tr>\n",
       "  </thead>\n",
       "  <tbody>\n",
       "    <tr>\n",
       "      <th>0</th>\n",
       "      <td>55</td>\n",
       "      <td>26.980</td>\n",
       "      <td>0</td>\n",
       "      <td>11082.577</td>\n",
       "      <td>1</td>\n",
       "      <td>0</td>\n",
       "      <td>0</td>\n",
       "      <td>0</td>\n",
       "    </tr>\n",
       "    <tr>\n",
       "      <th>1</th>\n",
       "      <td>20</td>\n",
       "      <td>22.420</td>\n",
       "      <td>0</td>\n",
       "      <td>14711.744</td>\n",
       "      <td>1</td>\n",
       "      <td>0</td>\n",
       "      <td>0</td>\n",
       "      <td>1</td>\n",
       "    </tr>\n",
       "    <tr>\n",
       "      <th>2</th>\n",
       "      <td>19</td>\n",
       "      <td>28.900</td>\n",
       "      <td>0</td>\n",
       "      <td>1743.214</td>\n",
       "      <td>0</td>\n",
       "      <td>0</td>\n",
       "      <td>1</td>\n",
       "      <td>0</td>\n",
       "    </tr>\n",
       "    <tr>\n",
       "      <th>3</th>\n",
       "      <td>45</td>\n",
       "      <td>28.600</td>\n",
       "      <td>2</td>\n",
       "      <td>8516.829</td>\n",
       "      <td>0</td>\n",
       "      <td>1</td>\n",
       "      <td>0</td>\n",
       "      <td>0</td>\n",
       "    </tr>\n",
       "    <tr>\n",
       "      <th>4</th>\n",
       "      <td>55</td>\n",
       "      <td>32.775</td>\n",
       "      <td>2</td>\n",
       "      <td>12268.632</td>\n",
       "      <td>1</td>\n",
       "      <td>0</td>\n",
       "      <td>0</td>\n",
       "      <td>0</td>\n",
       "    </tr>\n",
       "    <tr>\n",
       "      <th>...</th>\n",
       "      <td>...</td>\n",
       "      <td>...</td>\n",
       "      <td>...</td>\n",
       "      <td>...</td>\n",
       "      <td>...</td>\n",
       "      <td>...</td>\n",
       "      <td>...</td>\n",
       "      <td>...</td>\n",
       "    </tr>\n",
       "    <tr>\n",
       "      <th>1333</th>\n",
       "      <td>22</td>\n",
       "      <td>37.070</td>\n",
       "      <td>2</td>\n",
       "      <td>37484.449</td>\n",
       "      <td>0</td>\n",
       "      <td>1</td>\n",
       "      <td>0</td>\n",
       "      <td>1</td>\n",
       "    </tr>\n",
       "    <tr>\n",
       "      <th>1334</th>\n",
       "      <td>32</td>\n",
       "      <td>33.820</td>\n",
       "      <td>1</td>\n",
       "      <td>4462.722</td>\n",
       "      <td>1</td>\n",
       "      <td>0</td>\n",
       "      <td>0</td>\n",
       "      <td>0</td>\n",
       "    </tr>\n",
       "    <tr>\n",
       "      <th>1335</th>\n",
       "      <td>59</td>\n",
       "      <td>41.140</td>\n",
       "      <td>1</td>\n",
       "      <td>48970.248</td>\n",
       "      <td>0</td>\n",
       "      <td>1</td>\n",
       "      <td>0</td>\n",
       "      <td>1</td>\n",
       "    </tr>\n",
       "    <tr>\n",
       "      <th>1336</th>\n",
       "      <td>28</td>\n",
       "      <td>33.820</td>\n",
       "      <td>0</td>\n",
       "      <td>19673.336</td>\n",
       "      <td>1</td>\n",
       "      <td>0</td>\n",
       "      <td>0</td>\n",
       "      <td>0</td>\n",
       "    </tr>\n",
       "    <tr>\n",
       "      <th>1337</th>\n",
       "      <td>26</td>\n",
       "      <td>33.915</td>\n",
       "      <td>1</td>\n",
       "      <td>3292.530</td>\n",
       "      <td>1</td>\n",
       "      <td>0</td>\n",
       "      <td>0</td>\n",
       "      <td>0</td>\n",
       "    </tr>\n",
       "  </tbody>\n",
       "</table>\n",
       "<p>1338 rows × 8 columns</p>\n",
       "</div>"
      ],
      "text/plain": [
       "      AgeLabel     BMI  ChildrenLabel  ChargeValue  RegionLabel_northwest  \\\n",
       "0           55  26.980              0    11082.577                      1   \n",
       "1           20  22.420              0    14711.744                      1   \n",
       "2           19  28.900              0     1743.214                      0   \n",
       "3           45  28.600              2     8516.829                      0   \n",
       "4           55  32.775              2    12268.632                      1   \n",
       "...        ...     ...            ...          ...                    ...   \n",
       "1333        22  37.070              2    37484.449                      0   \n",
       "1334        32  33.820              1     4462.722                      1   \n",
       "1335        59  41.140              1    48970.248                      0   \n",
       "1336        28  33.820              0    19673.336                      1   \n",
       "1337        26  33.915              1     3292.530                      1   \n",
       "\n",
       "      RegionLabel_southeast  RegionLabel_southwest  SmokerLabel_True  \n",
       "0                         0                      0                 0  \n",
       "1                         0                      0                 1  \n",
       "2                         0                      1                 0  \n",
       "3                         1                      0                 0  \n",
       "4                         0                      0                 0  \n",
       "...                     ...                    ...               ...  \n",
       "1333                      1                      0                 1  \n",
       "1334                      0                      0                 0  \n",
       "1335                      1                      0                 1  \n",
       "1336                      0                      0                 0  \n",
       "1337                      0                      0                 0  \n",
       "\n",
       "[1338 rows x 8 columns]"
      ]
     },
     "execution_count": 22,
     "metadata": {},
     "output_type": "execute_result"
    }
   ],
   "source": [
    "no_sex_df"
   ]
  },
  {
   "cell_type": "code",
   "execution_count": 23,
   "id": "bb46f4b9",
   "metadata": {},
   "outputs": [],
   "source": [
    "no_sex_X = no_sex_df.drop(columns = 'ChargeValue').copy()\n",
    "no_sex_y = no_sex_df['ChargeValue'].copy()"
   ]
  },
  {
   "cell_type": "code",
   "execution_count": 24,
   "id": "4c51b98e",
   "metadata": {},
   "outputs": [],
   "source": [
    "no_sex_X_train, no_sex_X_test, no_sex_y_train, no_sex_y_test = train_test_split(no_sex_X, no_sex_y, test_size=0.20, random_state = 9)"
   ]
  },
  {
   "cell_type": "code",
   "execution_count": 25,
   "id": "3ae88005",
   "metadata": {},
   "outputs": [
    {
     "data": {
      "text/plain": [
       "LinearRegression()"
      ]
     },
     "execution_count": 25,
     "metadata": {},
     "output_type": "execute_result"
    }
   ],
   "source": [
    "no_sex_model = LinearRegression()\n",
    "no_sex_model.fit(no_sex_X_train, no_sex_y_train)"
   ]
  },
  {
   "cell_type": "markdown",
   "id": "6d89003e",
   "metadata": {},
   "source": [
    "Let's see how this model performs compared to the other"
   ]
  },
  {
   "cell_type": "code",
   "execution_count": 26,
   "id": "a2c8f8af",
   "metadata": {},
   "outputs": [],
   "source": [
    "no_sex_charge_predictions = no_sex_model.predict(no_sex_X_test)"
   ]
  },
  {
   "cell_type": "code",
   "execution_count": 27,
   "id": "77f3bd2d",
   "metadata": {},
   "outputs": [
    {
     "data": {
      "image/png": "[encoded data removed]",
      "text/plain": [
       "<Figure size 432x288 with 1 Axes>"
      ]
     },
     "metadata": {
      "needs_background": "light"
     },
     "output_type": "display_data"
    }
   ],
   "source": [
    "# Plot outputs\n",
    "plt.scatter(no_sex_y_test, no_sex_charge_predictions, color=\"blue\", alpha=0.1)\n",
    "\n",
    "#plt.plot(diabetes_X_test, diabetes_y_pred, color=\"blue\", linewidth=3)\n",
    "plt.xlabel('actual charges')\n",
    "plt.ylabel('predicted charges')\n",
    "plt.title('Predicted vs Actual Charges')\n",
    "\n",
    "plt.show()"
   ]
  },
  {
   "cell_type": "code",
   "execution_count": 28,
   "id": "29640378",
   "metadata": {},
   "outputs": [
    {
     "data": {
      "image/png": "[encoded data removed]",
      "text/plain": [
       "<Figure size 432x288 with 1 Axes>"
      ]
     },
     "metadata": {
      "needs_background": "light"
     },
     "output_type": "display_data"
    }
   ],
   "source": [
    "# Plot residuals\n",
    "no_sex_residuals = no_sex_y_test - no_sex_charge_predictions\n",
    "plt.scatter(no_sex_charge_predictions, no_sex_residuals, color=\"blue\", alpha=0.1)\n",
    "plt.xlabel('Predicted Charges')\n",
    "plt.ylabel('residuals')\n",
    "plt.title('Residuals vs Predicted Charges')\n",
    "\n",
    "plt.show()"
   ]
  },
  {
   "cell_type": "code",
   "execution_count": 29,
   "id": "c31b6188",
   "metadata": {},
   "outputs": [
    {
     "data": {
      "text/plain": [
       "0.7471799707582683"
      ]
     },
     "execution_count": 29,
     "metadata": {},
     "output_type": "execute_result"
    }
   ],
   "source": [
    "no_sex_model.score(no_sex_X_test, no_sex_y_test)"
   ]
  },
  {
   "cell_type": "markdown",
   "id": "a4301896",
   "metadata": {},
   "source": [
    "Seeing how the model performs the same with and without sex, we will use the data without the sex column\n",
    "\n",
    "Let's try to optimize the model"
   ]
  },
  {
   "cell_type": "code",
   "execution_count": 30,
   "id": "e32e897d",
   "metadata": {},
   "outputs": [],
   "source": [
    "clf = Lasso(alpha=0.1)"
   ]
  },
  {
   "cell_type": "code",
   "execution_count": 31,
   "id": "ef939d3a",
   "metadata": {},
   "outputs": [
    {
     "data": {
      "text/plain": [
       "Lasso(alpha=0.1)"
      ]
     },
     "execution_count": 31,
     "metadata": {},
     "output_type": "execute_result"
    }
   ],
   "source": [
    "clf.fit(no_sex_X_train, no_sex_y_train)"
   ]
  },
  {
   "cell_type": "code",
   "execution_count": 32,
   "id": "b65e07c1",
   "metadata": {},
   "outputs": [
    {
     "name": "stdout",
     "output_type": "stream",
     "text": [
      "[  271.59469028   301.38035071   424.54124105  -657.72219066\n",
      "  -995.54980931  -985.07983053 23993.24596818]\n"
     ]
    }
   ],
   "source": [
    "print(clf.coef_)"
   ]
  },
  {
   "cell_type": "code",
   "execution_count": 33,
   "id": "62af4b88",
   "metadata": {},
   "outputs": [
    {
     "data": {
      "text/plain": [
       "0.7471827057656257"
      ]
     },
     "execution_count": 33,
     "metadata": {},
     "output_type": "execute_result"
    }
   ],
   "source": [
    "clf.score(no_sex_X_test, no_sex_y_test)"
   ]
  },
  {
   "cell_type": "code",
   "execution_count": 34,
   "id": "4145942f",
   "metadata": {},
   "outputs": [],
   "source": [
    "reg = LassoCV(cv=5, random_state=9).fit(no_sex_X_train, no_sex_y_train)"
   ]
  },
  {
   "cell_type": "code",
   "execution_count": 35,
   "id": "68758c0a",
   "metadata": {},
   "outputs": [
    {
     "data": {
      "text/plain": [
       "0.7472607952218686"
      ]
     },
     "execution_count": 35,
     "metadata": {},
     "output_type": "execute_result"
    }
   ],
   "source": [
    "reg.score(no_sex_X_test, no_sex_y_test)"
   ]
  },
  {
   "cell_type": "code",
   "execution_count": 36,
   "id": "1fbbf411",
   "metadata": {},
   "outputs": [],
   "source": [
    "lasso = Lasso(random_state=9)\n",
    "alphas = np.logspace(-3, 3, 800)\n",
    "\n",
    "tuned_parameters = [{\"alpha\": alphas}]\n",
    "n_folds = 5\n",
    "\n",
    "clf = GridSearchCV(lasso, tuned_parameters, cv=n_folds, refit=False)\n",
    "clf.fit(no_sex_X_train, no_sex_y_train)\n",
    "scores = clf.cv_results_[\"mean_test_score\"]\n",
    "scores_std = clf.cv_results_[\"std_test_score\"]"
   ]
  },
  {
   "cell_type": "code",
   "execution_count": 37,
   "id": "5bd4ddb2",
   "metadata": {},
   "outputs": [
    {
     "data": {
      "text/plain": [
       "(0.001, 1000.0)"
      ]
     },
     "execution_count": 37,
     "metadata": {},
     "output_type": "execute_result"
    },
    {
     "data": {
      "image/png": "[encoded data removed]",
      "text/plain": [
       "<Figure size 576x432 with 1 Axes>"
      ]
     },
     "metadata": {
      "needs_background": "light"
     },
     "output_type": "display_data"
    }
   ],
   "source": [
    "plt.figure().set_size_inches(8, 6)\n",
    "plt.semilogx(alphas, scores)\n",
    "\n",
    "std_error = scores_std / np.sqrt(n_folds)\n",
    "\n",
    "plt.semilogx(alphas, scores + std_error, \"b--\")\n",
    "plt.semilogx(alphas, scores - std_error, \"b--\")\n",
    "\n",
    "# alpha=0.2 controls the translucency of the fill color\n",
    "plt.fill_between(alphas, scores + std_error, scores - std_error, alpha=0.2)\n",
    "\n",
    "plt.ylabel(\"CV score +/- std error\")\n",
    "plt.xlabel(\"alpha\")\n",
    "plt.axhline(np.max(scores), linestyle=\"--\", color=\".5\")\n",
    "plt.xlim([alphas[0], alphas[-1]])"
   ]
  },
  {
   "cell_type": "markdown",
   "id": "b92a9833",
   "metadata": {},
   "source": [
    "We can see from the plot above that the score is relatively flat and starts to decrease at $\\alpha$ ~ 100.\n",
    "An $\\alpha$ = 0 is simply a LinearRegression. Let's see how else we can improve the accuracy of the model in the next notebook `ML-DBmodel2.ipynb`"
   ]
  },
  {
   "cell_type": "code",
   "execution_count": null,
   "id": "34972084",
   "metadata": {},
   "outputs": [],
   "source": []
  }
 ],
 "metadata": {
  "kernelspec": {
   "display_name": "Python 3 (ipykernel)",
   "language": "python",
   "name": "python3"
  },
  "language_info": {
   "codemirror_mode": {
    "name": "ipython",
    "version": 3
   },
   "file_extension": ".py",
   "mimetype": "text/x-python",
   "name": "python",
   "nbconvert_exporter": "python",
   "pygments_lexer": "ipython3",
   "version": "3.9.12"
  }
 },
 "nbformat": 4,
 "nbformat_minor": 5
}
