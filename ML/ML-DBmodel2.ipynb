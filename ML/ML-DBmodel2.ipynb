{
 "cells": [
  {
   "cell_type": "markdown",
   "id": "41f3f459",
   "metadata": {},
   "source": [
    "# Further Tuning of the ML Model for the InsuranceCharges Data\n",
    "\n",
    "Since we saw that the model does not perform differently including sex, we will remove it from our data. In `ML-DBmodel.ipynb` we saw that the LinearRegression (i.e. Lasso with $\\alpha$ = 0) was the best performing model.\n",
    "\n",
    "In this notebook we will try to improve the $R^2$ value of the LinearRegression model"
   ]
  },
  {
   "cell_type": "code",
   "execution_count": null,
   "id": "2fa37d74",
   "metadata": {},
   "outputs": [],
   "source": [
    "import numpy as np\n",
    "import pandas as pd\n",
    "import matplotlib.pyplot as plt\n",
    "from sklearn.linear_model import LinearRegression\n",
    "from sklearn.linear_model import Lasso, LassoCV\n",
    "from sklearn.model_selection import train_test_split\n",
    "from sklearn.model_selection import GridSearchCV, cross_val_score\n",
    "from sklearn.pipeline import make_pipeline\n",
    "from sklearn.preprocessing import PolynomialFeatures\n",
    "#For connecting with SQL database\n",
    "import pymssql\n",
    "from config import database\n",
    "from config import username\n",
    "from config import password\n",
    "from config import server"
   ]
  },
  {
   "cell_type": "code",
   "execution_count": null,
   "id": "d5388036",
   "metadata": {},
   "outputs": [],
   "source": [
    "#Create connectiong to databse\n",
    "conn = pymssql.connect(server, username, password, database)\n",
    "cursor = conn.cursor()"
   ]
  },
  {
   "cell_type": "code",
   "execution_count": null,
   "id": "314988f8",
   "metadata": {},
   "outputs": [],
   "source": [
    "#Run the query to gather the table\n",
    "table = 'dbo.InsuranceCharges'\n",
    "\n",
    "querycosts = '''Select I.ChargeID, I.ChargeValue, I.AgeID, A.AgeLabel, I.ChildrenID, C.ChildrenLabel, I.RegionID, \n",
    "R.RegionLabel, I.SexID, S.SexLabel, I.SmokerID, Sm.SmokerLabel, I.BMI from InsuranceCharges I\n",
    "inner join Age A on I.AgeID = A.AgeID\n",
    "inner join Children C on  I.ChildrenID = C.ChildrenID\n",
    "inner join Region R on  I.RegionID = R.RegionID\n",
    "inner join Sex S on  I.SexID = S.SexID\n",
    "inner join Smoker Sm on  I.SmokerID = Sm.SmokerID\n",
    "'''\n",
    "#Load the query to a pandas dataframe\n",
    "df_costs = pd.read_sql(querycosts, conn)\n",
    "df_costs"
   ]
  },
  {
   "cell_type": "code",
   "execution_count": null,
   "id": "9e067462",
   "metadata": {},
   "outputs": [],
   "source": [
    "df = df_costs[['AgeLabel', 'BMI', 'ChildrenLabel', 'RegionLabel', 'ChargeValue', 'SmokerLabel']]\n",
    "df"
   ]
  },
  {
   "cell_type": "code",
   "execution_count": null,
   "id": "d69aec72",
   "metadata": {},
   "outputs": [],
   "source": [
    "df['AgeLabel'] = df['AgeLabel'].astype('int64')\n",
    "df['ChildrenLabel'] = df['ChildrenLabel'].astype('int64')"
   ]
  },
  {
   "cell_type": "code",
   "execution_count": null,
   "id": "b970acf6",
   "metadata": {},
   "outputs": [],
   "source": [
    "df_dummies = pd.get_dummies(df, columns = ['RegionLabel', 'SmokerLabel'], drop_first = True)"
   ]
  },
  {
   "cell_type": "code",
   "execution_count": null,
   "id": "f033459d",
   "metadata": {},
   "outputs": [],
   "source": [
    "df_dummies"
   ]
  },
  {
   "cell_type": "markdown",
   "id": "50fcc57d",
   "metadata": {},
   "source": [
    "Now we isolate the target variable (`ChargeValue`) and assign it as `y`, which is a culmination of individual medical costs incurred by people with attributes `X` (i.e. `AgeLabel`, `BMI`, `ChildrenLabel`, `RegionaLabel`, `SmokerLabel`)."
   ]
  },
  {
   "cell_type": "code",
   "execution_count": null,
   "id": "cada57ae",
   "metadata": {},
   "outputs": [],
   "source": [
    "X = df_dummies.drop(columns = 'ChargeValue').copy()\n",
    "y = df_dummies[['ChargeValue']].copy()"
   ]
  },
  {
   "cell_type": "code",
   "execution_count": null,
   "id": "d4cda6a9",
   "metadata": {},
   "outputs": [],
   "source": [
    "X_train, X_test, y_train, y_test = train_test_split(X, y, test_size=0.20, random_state = 9)"
   ]
  },
  {
   "cell_type": "code",
   "execution_count": null,
   "id": "86e86ec7",
   "metadata": {},
   "outputs": [],
   "source": [
    "model = make_pipeline(PolynomialFeatures(degree=2),\n",
    "                      LinearRegression())"
   ]
  },
  {
   "cell_type": "code",
   "execution_count": null,
   "id": "a61c1645",
   "metadata": {},
   "outputs": [],
   "source": [
    "param_grid = {'polynomialfeatures__degree': np.arange(8)}\n",
    "\n",
    "grid = GridSearchCV(model, param_grid, cv=7)"
   ]
  },
  {
   "cell_type": "code",
   "execution_count": null,
   "id": "54e8a52a",
   "metadata": {},
   "outputs": [],
   "source": [
    "grid.fit(X_train, y_train)"
   ]
  },
  {
   "cell_type": "code",
   "execution_count": null,
   "id": "91ee3a11",
   "metadata": {},
   "outputs": [],
   "source": [
    "grid.best_params_"
   ]
  },
  {
   "cell_type": "markdown",
   "id": "220e1677",
   "metadata": {},
   "source": [
    "The best params are\n",
    "* polynomialfeatures_degree: 3"
   ]
  },
  {
   "cell_type": "code",
   "execution_count": null,
   "id": "adf2e9fa",
   "metadata": {},
   "outputs": [],
   "source": [
    "best_model = grid.best_estimator_"
   ]
  },
  {
   "cell_type": "code",
   "execution_count": null,
   "id": "13b84ae2",
   "metadata": {},
   "outputs": [],
   "source": [
    "best_model.score(X_test, y_test)"
   ]
  },
  {
   "cell_type": "markdown",
   "id": "11f0723f",
   "metadata": {},
   "source": [
    "With approximately 10 percentage point increase the new model has an $R^2$ score of 87%\n",
    "\n",
    "This was mostly achieved through the use of polynomialfeatures as we saw the alphas made little-to-no difference near $\\alpha$ = 0\n",
    "\n",
    "We can use the model to create predictions for potential insurance customers, but first we export the model using joblib"
   ]
  },
  {
   "cell_type": "markdown",
   "id": "9ece0c94",
   "metadata": {},
   "source": [
    "### Joblib Machine Learning Model Export"
   ]
  },
  {
   "cell_type": "code",
   "execution_count": null,
   "id": "e1565a93",
   "metadata": {},
   "outputs": [],
   "source": [
    "from joblib import dump, load"
   ]
  },
  {
   "cell_type": "code",
   "execution_count": null,
   "id": "1763dcb2",
   "metadata": {},
   "outputs": [],
   "source": [
    "dump(best_model, 'LinearRegressionTunedJoblib.model')"
   ]
  },
  {
   "cell_type": "code",
   "execution_count": null,
   "id": "b6478e1a",
   "metadata": {},
   "outputs": [],
   "source": [
    "load_model = load('LinearRegressionTunedJoblib.model')"
   ]
  },
  {
   "cell_type": "code",
   "execution_count": null,
   "id": "89a23abc",
   "metadata": {},
   "outputs": [],
   "source": [
    "X_test.head()"
   ]
  },
  {
   "cell_type": "code",
   "execution_count": null,
   "id": "c00a72c6",
   "metadata": {},
   "outputs": [],
   "source": [
    "#Create a new entry to predict the costs\n",
    "\n",
    "prediction1 = {'AgeLabel': 22,\n",
    "              'BMI': 22.3,\n",
    "              'ChildrenLabel': 0,\n",
    "              'RegionLabel_northwest': 0,\n",
    "              'RegionLabel_southeast': 1,\n",
    "              'RegionLabel_southwest': 0,\n",
    "              'SmokerLabel_True': 0}\n"
   ]
  },
  {
   "cell_type": "code",
   "execution_count": null,
   "id": "dca79df9",
   "metadata": {},
   "outputs": [],
   "source": [
    "test_prediction_df = pd.DataFrame(prediction1, index=[1])\n",
    "test_prediction_df"
   ]
  },
  {
   "cell_type": "code",
   "execution_count": null,
   "id": "62114c0d",
   "metadata": {},
   "outputs": [],
   "source": [
    "load_model.predict(test_prediction_df)"
   ]
  },
  {
   "cell_type": "markdown",
   "id": "731eda18",
   "metadata": {},
   "source": [
    "A 22 year-old living in the southeast with a BMI of 22.3 and no children will incur 3473.15 dollars of healthcare costs"
   ]
  },
  {
   "cell_type": "code",
   "execution_count": null,
   "id": "2786d29c",
   "metadata": {},
   "outputs": [],
   "source": []
  }
 ],
 "metadata": {
  "kernelspec": {
   "display_name": "Python 3 (ipykernel)",
   "language": "python",
   "name": "python3"
  },
  "language_info": {
   "codemirror_mode": {
    "name": "ipython",
    "version": 3
   },
   "file_extension": ".py",
   "mimetype": "text/x-python",
   "name": "python",
   "nbconvert_exporter": "python",
   "pygments_lexer": "ipython3",
   "version": "3.9.12"
  }
 },
 "nbformat": 4,
 "nbformat_minor": 5
}
